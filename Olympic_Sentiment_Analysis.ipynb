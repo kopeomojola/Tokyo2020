{
  "cells": [
    {
      "cell_type": "markdown",
      "metadata": {
        "id": "view-in-github",
        "colab_type": "text"
      },
      "source": [
        "<a href=\"https://colab.research.google.com/github/kopeomojola/Tokyo2020/blob/main/Olympic_Sentiment_Analysis.ipynb\" target=\"_parent\"><img src=\"https://colab.research.google.com/assets/colab-badge.svg\" alt=\"Open In Colab\"/></a>"
      ]
    },
    {
      "cell_type": "markdown",
      "metadata": {
        "id": "SFLgO4Hn-Gm7"
      },
      "source": [
        "# Sentiment Analysis with an RNN"
      ]
    },
    {
      "cell_type": "markdown",
      "metadata": {
        "id": "dLvpRCsE-GnC"
      },
      "source": [
        "<table align=\"left\"><td>\n",
        "  <a target=\"_blank\"  href=\"https://colab.research.google.com/drive/1EaAYMOMrPz9bR6URojmgO1Ta9rwavCo1#scrollTo=dLvpRCsE-GnC\">\n",
        "    <img src=\"https://www.tensorflow.org/images/colab_logo_32px.png\" />Run in Google Colab\n",
        "  </a>\n",
        "</td><td>\n",
        "  <a target=\"_blank\"  href=\"https://github.com/kopeomojola/Tokyo2020/blob/main/Olympic_Sentiment_Analysis.ipynb\">\n",
        "    <img width=32px src=\"https://www.tensorflow.org/images/GitHub-Mark-32px.png\" />View source on GitHub</a>\n",
        "</td></table>"
      ]
    },
    {
      "cell_type": "markdown",
      "metadata": {
        "id": "0XCoOSKW-GnG"
      },
      "source": [
        "## Sentiment Analysis with an Recurrent Neural Network\n",
        "\n",
        "We will use a RNN for sentiment analysis because we care for the sequence in the data."
      ]
    },
    {
      "cell_type": "markdown",
      "metadata": {
        "id": "Nl_oX17s-GnH"
      },
      "source": [
        "### Imports\n",
        "Importing numpy for "
      ]
    },
    {
      "cell_type": "code",
      "execution_count": null,
      "metadata": {
        "id": "4L4wX7zP-GnH"
      },
      "outputs": [],
      "source": [
        "import re\n",
        "import numpy as np\n",
        "import pandas as pd\n",
        "from sklearn.model_selection import train_test_split\n",
        "import matplotlib.pyplot as plt\n",
        "\n",
        "from keras.models import Sequential, load_model\n",
        "from keras.layers import Dense, LSTM, Embedding, Dropout\n",
        "from keras.preprocessing.text import Tokenizer\n",
        "from keras.preprocessing.sequence import pad_sequences"
      ]
    },
    {
      "cell_type": "markdown",
      "metadata": {
        "id": "KqK6QgCW-GnK"
      },
      "source": [
        "### Loading in Dataset"
      ]
    },
    {
      "cell_type": "code",
      "execution_count": null,
      "metadata": {
        "id": "-gAcG3Xg-GnL",
        "colab": {
          "base_uri": "https://localhost:8080/",
          "height": 372
        },
        "outputId": "78fa7394-b4a2-4813-ea54-49239f9412d1"
      },
      "outputs": [
        {
          "output_type": "stream",
          "name": "stdout",
          "text": [
            "(9868, 10)\n"
          ]
        },
        {
          "output_type": "execute_result",
          "data": {
            "text/plain": [
              "   Unnamed: 0                                                  0  \\\n",
              "0        8314  Beer Olympics runners-up 🥈  https://t.co/lLKtS...   \n",
              "1        3450  Olympic News #greatbritain #mofarah #olympics ...   \n",
              "2        4082  @VesuviusHambone @yomi_olympic @haramcart @tre...   \n",
              "3        4615  Team Toyota’s Jessie Diggins Becomes First Ame...   \n",
              "4        2542  @TheHoopCentral @RMCsport Rudy and Embiid play...   \n",
              "\n",
              "                                                text  polarity  subjectivity  \\\n",
              "0                      beer olympics runners up           0.00      0.000000   \n",
              "1  olympic news  greatbritain  mofarah  olympics ...     -0.10      0.087500   \n",
              "2      olympic       every video on any gender ba...     -0.45      0.800000   \n",
              "3  team toyota s jessie diggins becomes first ame...      0.05      0.183333   \n",
              "4      rudy and embiid playing in olympic for fra...      0.00      0.000000   \n",
              "\n",
              "  sentiment    neg    neu    pos  compound  \n",
              "0   neutral  0.000  1.000  0.000    0.0000  \n",
              "1  negative  0.239  0.761  0.000   -0.5719  \n",
              "2  negative  0.217  0.704  0.079   -0.6908  \n",
              "3  positive  0.000  0.838  0.162    0.4767  \n",
              "4  positive  0.000  0.795  0.205    0.2023  "
            ],
            "text/html": [
              "\n",
              "  <div id=\"df-ad36bc98-a655-4cd6-99f8-7bb34e777c2f\">\n",
              "    <div class=\"colab-df-container\">\n",
              "      <div>\n",
              "<style scoped>\n",
              "    .dataframe tbody tr th:only-of-type {\n",
              "        vertical-align: middle;\n",
              "    }\n",
              "\n",
              "    .dataframe tbody tr th {\n",
              "        vertical-align: top;\n",
              "    }\n",
              "\n",
              "    .dataframe thead th {\n",
              "        text-align: right;\n",
              "    }\n",
              "</style>\n",
              "<table border=\"1\" class=\"dataframe\">\n",
              "  <thead>\n",
              "    <tr style=\"text-align: right;\">\n",
              "      <th></th>\n",
              "      <th>Unnamed: 0</th>\n",
              "      <th>0</th>\n",
              "      <th>text</th>\n",
              "      <th>polarity</th>\n",
              "      <th>subjectivity</th>\n",
              "      <th>sentiment</th>\n",
              "      <th>neg</th>\n",
              "      <th>neu</th>\n",
              "      <th>pos</th>\n",
              "      <th>compound</th>\n",
              "    </tr>\n",
              "  </thead>\n",
              "  <tbody>\n",
              "    <tr>\n",
              "      <th>0</th>\n",
              "      <td>8314</td>\n",
              "      <td>Beer Olympics runners-up 🥈  https://t.co/lLKtS...</td>\n",
              "      <td>beer olympics runners up</td>\n",
              "      <td>0.00</td>\n",
              "      <td>0.000000</td>\n",
              "      <td>neutral</td>\n",
              "      <td>0.000</td>\n",
              "      <td>1.000</td>\n",
              "      <td>0.000</td>\n",
              "      <td>0.0000</td>\n",
              "    </tr>\n",
              "    <tr>\n",
              "      <th>1</th>\n",
              "      <td>3450</td>\n",
              "      <td>Olympic News #greatbritain #mofarah #olympics ...</td>\n",
              "      <td>olympic news  greatbritain  mofarah  olympics ...</td>\n",
              "      <td>-0.10</td>\n",
              "      <td>0.087500</td>\n",
              "      <td>negative</td>\n",
              "      <td>0.239</td>\n",
              "      <td>0.761</td>\n",
              "      <td>0.000</td>\n",
              "      <td>-0.5719</td>\n",
              "    </tr>\n",
              "    <tr>\n",
              "      <th>2</th>\n",
              "      <td>4082</td>\n",
              "      <td>@VesuviusHambone @yomi_olympic @haramcart @tre...</td>\n",
              "      <td>olympic       every video on any gender ba...</td>\n",
              "      <td>-0.45</td>\n",
              "      <td>0.800000</td>\n",
              "      <td>negative</td>\n",
              "      <td>0.217</td>\n",
              "      <td>0.704</td>\n",
              "      <td>0.079</td>\n",
              "      <td>-0.6908</td>\n",
              "    </tr>\n",
              "    <tr>\n",
              "      <th>3</th>\n",
              "      <td>4615</td>\n",
              "      <td>Team Toyota’s Jessie Diggins Becomes First Ame...</td>\n",
              "      <td>team toyota s jessie diggins becomes first ame...</td>\n",
              "      <td>0.05</td>\n",
              "      <td>0.183333</td>\n",
              "      <td>positive</td>\n",
              "      <td>0.000</td>\n",
              "      <td>0.838</td>\n",
              "      <td>0.162</td>\n",
              "      <td>0.4767</td>\n",
              "    </tr>\n",
              "    <tr>\n",
              "      <th>4</th>\n",
              "      <td>2542</td>\n",
              "      <td>@TheHoopCentral @RMCsport Rudy and Embiid play...</td>\n",
              "      <td>rudy and embiid playing in olympic for fra...</td>\n",
              "      <td>0.00</td>\n",
              "      <td>0.000000</td>\n",
              "      <td>positive</td>\n",
              "      <td>0.000</td>\n",
              "      <td>0.795</td>\n",
              "      <td>0.205</td>\n",
              "      <td>0.2023</td>\n",
              "    </tr>\n",
              "  </tbody>\n",
              "</table>\n",
              "</div>\n",
              "      <button class=\"colab-df-convert\" onclick=\"convertToInteractive('df-ad36bc98-a655-4cd6-99f8-7bb34e777c2f')\"\n",
              "              title=\"Convert this dataframe to an interactive table.\"\n",
              "              style=\"display:none;\">\n",
              "        \n",
              "  <svg xmlns=\"http://www.w3.org/2000/svg\" height=\"24px\"viewBox=\"0 0 24 24\"\n",
              "       width=\"24px\">\n",
              "    <path d=\"M0 0h24v24H0V0z\" fill=\"none\"/>\n",
              "    <path d=\"M18.56 5.44l.94 2.06.94-2.06 2.06-.94-2.06-.94-.94-2.06-.94 2.06-2.06.94zm-11 1L8.5 8.5l.94-2.06 2.06-.94-2.06-.94L8.5 2.5l-.94 2.06-2.06.94zm10 10l.94 2.06.94-2.06 2.06-.94-2.06-.94-.94-2.06-.94 2.06-2.06.94z\"/><path d=\"M17.41 7.96l-1.37-1.37c-.4-.4-.92-.59-1.43-.59-.52 0-1.04.2-1.43.59L10.3 9.45l-7.72 7.72c-.78.78-.78 2.05 0 2.83L4 21.41c.39.39.9.59 1.41.59.51 0 1.02-.2 1.41-.59l7.78-7.78 2.81-2.81c.8-.78.8-2.07 0-2.86zM5.41 20L4 18.59l7.72-7.72 1.47 1.35L5.41 20z\"/>\n",
              "  </svg>\n",
              "      </button>\n",
              "      \n",
              "  <style>\n",
              "    .colab-df-container {\n",
              "      display:flex;\n",
              "      flex-wrap:wrap;\n",
              "      gap: 12px;\n",
              "    }\n",
              "\n",
              "    .colab-df-convert {\n",
              "      background-color: #E8F0FE;\n",
              "      border: none;\n",
              "      border-radius: 50%;\n",
              "      cursor: pointer;\n",
              "      display: none;\n",
              "      fill: #1967D2;\n",
              "      height: 32px;\n",
              "      padding: 0 0 0 0;\n",
              "      width: 32px;\n",
              "    }\n",
              "\n",
              "    .colab-df-convert:hover {\n",
              "      background-color: #E2EBFA;\n",
              "      box-shadow: 0px 1px 2px rgba(60, 64, 67, 0.3), 0px 1px 3px 1px rgba(60, 64, 67, 0.15);\n",
              "      fill: #174EA6;\n",
              "    }\n",
              "\n",
              "    [theme=dark] .colab-df-convert {\n",
              "      background-color: #3B4455;\n",
              "      fill: #D2E3FC;\n",
              "    }\n",
              "\n",
              "    [theme=dark] .colab-df-convert:hover {\n",
              "      background-color: #434B5C;\n",
              "      box-shadow: 0px 1px 3px 1px rgba(0, 0, 0, 0.15);\n",
              "      filter: drop-shadow(0px 1px 2px rgba(0, 0, 0, 0.3));\n",
              "      fill: #FFFFFF;\n",
              "    }\n",
              "  </style>\n",
              "\n",
              "      <script>\n",
              "        const buttonEl =\n",
              "          document.querySelector('#df-ad36bc98-a655-4cd6-99f8-7bb34e777c2f button.colab-df-convert');\n",
              "        buttonEl.style.display =\n",
              "          google.colab.kernel.accessAllowed ? 'block' : 'none';\n",
              "\n",
              "        async function convertToInteractive(key) {\n",
              "          const element = document.querySelector('#df-ad36bc98-a655-4cd6-99f8-7bb34e777c2f');\n",
              "          const dataTable =\n",
              "            await google.colab.kernel.invokeFunction('convertToInteractive',\n",
              "                                                     [key], {});\n",
              "          if (!dataTable) return;\n",
              "\n",
              "          const docLinkHtml = 'Like what you see? Visit the ' +\n",
              "            '<a target=\"_blank\" href=https://colab.research.google.com/notebooks/data_table.ipynb>data table notebook</a>'\n",
              "            + ' to learn more about interactive tables.';\n",
              "          element.innerHTML = '';\n",
              "          dataTable['output_type'] = 'display_data';\n",
              "          await google.colab.output.renderOutput(dataTable, element);\n",
              "          const docLink = document.createElement('div');\n",
              "          docLink.innerHTML = docLinkHtml;\n",
              "          element.appendChild(docLink);\n",
              "        }\n",
              "      </script>\n",
              "    </div>\n",
              "  </div>\n",
              "  "
            ]
          },
          "metadata": {},
          "execution_count": 15
        }
      ],
      "source": [
        "url = 'https://raw.githubusercontent.com/kopeomojola/Tokyo2020/main/datas.csv'\n",
        "data = pd.read_csv(url)\n",
        "data = data.sample(frac=1).reset_index(drop=True)\n",
        "print(data.shape)\n",
        "data.head()"
      ]
    },
    {
      "cell_type": "markdown",
      "metadata": {
        "id": "yZqZZ01G-GnM"
      },
      "source": [
        "Removing all columns except the sentiment and text column."
      ]
    },
    {
      "cell_type": "code",
      "execution_count": null,
      "metadata": {
        "id": "4l8hV2zx-GnM",
        "colab": {
          "base_uri": "https://localhost:8080/",
          "height": 206
        },
        "outputId": "7b511e36-9c0d-4867-9a7d-95fe0300e720"
      },
      "outputs": [
        {
          "output_type": "execute_result",
          "data": {
            "text/plain": [
              "  sentiment                                               text\n",
              "0   neutral                      beer olympics runners up     \n",
              "1  negative  olympic news  greatbritain  mofarah  olympics ...\n",
              "2  negative      olympic       every video on any gender ba...\n",
              "3  positive  team toyota s jessie diggins becomes first ame...\n",
              "4  positive      rudy and embiid playing in olympic for fra..."
            ],
            "text/html": [
              "\n",
              "  <div id=\"df-c4a6118b-a1ba-4003-bf91-5bbe8a850cb9\">\n",
              "    <div class=\"colab-df-container\">\n",
              "      <div>\n",
              "<style scoped>\n",
              "    .dataframe tbody tr th:only-of-type {\n",
              "        vertical-align: middle;\n",
              "    }\n",
              "\n",
              "    .dataframe tbody tr th {\n",
              "        vertical-align: top;\n",
              "    }\n",
              "\n",
              "    .dataframe thead th {\n",
              "        text-align: right;\n",
              "    }\n",
              "</style>\n",
              "<table border=\"1\" class=\"dataframe\">\n",
              "  <thead>\n",
              "    <tr style=\"text-align: right;\">\n",
              "      <th></th>\n",
              "      <th>sentiment</th>\n",
              "      <th>text</th>\n",
              "    </tr>\n",
              "  </thead>\n",
              "  <tbody>\n",
              "    <tr>\n",
              "      <th>0</th>\n",
              "      <td>neutral</td>\n",
              "      <td>beer olympics runners up</td>\n",
              "    </tr>\n",
              "    <tr>\n",
              "      <th>1</th>\n",
              "      <td>negative</td>\n",
              "      <td>olympic news  greatbritain  mofarah  olympics ...</td>\n",
              "    </tr>\n",
              "    <tr>\n",
              "      <th>2</th>\n",
              "      <td>negative</td>\n",
              "      <td>olympic       every video on any gender ba...</td>\n",
              "    </tr>\n",
              "    <tr>\n",
              "      <th>3</th>\n",
              "      <td>positive</td>\n",
              "      <td>team toyota s jessie diggins becomes first ame...</td>\n",
              "    </tr>\n",
              "    <tr>\n",
              "      <th>4</th>\n",
              "      <td>positive</td>\n",
              "      <td>rudy and embiid playing in olympic for fra...</td>\n",
              "    </tr>\n",
              "  </tbody>\n",
              "</table>\n",
              "</div>\n",
              "      <button class=\"colab-df-convert\" onclick=\"convertToInteractive('df-c4a6118b-a1ba-4003-bf91-5bbe8a850cb9')\"\n",
              "              title=\"Convert this dataframe to an interactive table.\"\n",
              "              style=\"display:none;\">\n",
              "        \n",
              "  <svg xmlns=\"http://www.w3.org/2000/svg\" height=\"24px\"viewBox=\"0 0 24 24\"\n",
              "       width=\"24px\">\n",
              "    <path d=\"M0 0h24v24H0V0z\" fill=\"none\"/>\n",
              "    <path d=\"M18.56 5.44l.94 2.06.94-2.06 2.06-.94-2.06-.94-.94-2.06-.94 2.06-2.06.94zm-11 1L8.5 8.5l.94-2.06 2.06-.94-2.06-.94L8.5 2.5l-.94 2.06-2.06.94zm10 10l.94 2.06.94-2.06 2.06-.94-2.06-.94-.94-2.06-.94 2.06-2.06.94z\"/><path d=\"M17.41 7.96l-1.37-1.37c-.4-.4-.92-.59-1.43-.59-.52 0-1.04.2-1.43.59L10.3 9.45l-7.72 7.72c-.78.78-.78 2.05 0 2.83L4 21.41c.39.39.9.59 1.41.59.51 0 1.02-.2 1.41-.59l7.78-7.78 2.81-2.81c.8-.78.8-2.07 0-2.86zM5.41 20L4 18.59l7.72-7.72 1.47 1.35L5.41 20z\"/>\n",
              "  </svg>\n",
              "      </button>\n",
              "      \n",
              "  <style>\n",
              "    .colab-df-container {\n",
              "      display:flex;\n",
              "      flex-wrap:wrap;\n",
              "      gap: 12px;\n",
              "    }\n",
              "\n",
              "    .colab-df-convert {\n",
              "      background-color: #E8F0FE;\n",
              "      border: none;\n",
              "      border-radius: 50%;\n",
              "      cursor: pointer;\n",
              "      display: none;\n",
              "      fill: #1967D2;\n",
              "      height: 32px;\n",
              "      padding: 0 0 0 0;\n",
              "      width: 32px;\n",
              "    }\n",
              "\n",
              "    .colab-df-convert:hover {\n",
              "      background-color: #E2EBFA;\n",
              "      box-shadow: 0px 1px 2px rgba(60, 64, 67, 0.3), 0px 1px 3px 1px rgba(60, 64, 67, 0.15);\n",
              "      fill: #174EA6;\n",
              "    }\n",
              "\n",
              "    [theme=dark] .colab-df-convert {\n",
              "      background-color: #3B4455;\n",
              "      fill: #D2E3FC;\n",
              "    }\n",
              "\n",
              "    [theme=dark] .colab-df-convert:hover {\n",
              "      background-color: #434B5C;\n",
              "      box-shadow: 0px 1px 3px 1px rgba(0, 0, 0, 0.15);\n",
              "      filter: drop-shadow(0px 1px 2px rgba(0, 0, 0, 0.3));\n",
              "      fill: #FFFFFF;\n",
              "    }\n",
              "  </style>\n",
              "\n",
              "      <script>\n",
              "        const buttonEl =\n",
              "          document.querySelector('#df-c4a6118b-a1ba-4003-bf91-5bbe8a850cb9 button.colab-df-convert');\n",
              "        buttonEl.style.display =\n",
              "          google.colab.kernel.accessAllowed ? 'block' : 'none';\n",
              "\n",
              "        async function convertToInteractive(key) {\n",
              "          const element = document.querySelector('#df-c4a6118b-a1ba-4003-bf91-5bbe8a850cb9');\n",
              "          const dataTable =\n",
              "            await google.colab.kernel.invokeFunction('convertToInteractive',\n",
              "                                                     [key], {});\n",
              "          if (!dataTable) return;\n",
              "\n",
              "          const docLinkHtml = 'Like what you see? Visit the ' +\n",
              "            '<a target=\"_blank\" href=https://colab.research.google.com/notebooks/data_table.ipynb>data table notebook</a>'\n",
              "            + ' to learn more about interactive tables.';\n",
              "          element.innerHTML = '';\n",
              "          dataTable['output_type'] = 'display_data';\n",
              "          await google.colab.output.renderOutput(dataTable, element);\n",
              "          const docLink = document.createElement('div');\n",
              "          docLink.innerHTML = docLinkHtml;\n",
              "          element.appendChild(docLink);\n",
              "        }\n",
              "      </script>\n",
              "    </div>\n",
              "  </div>\n",
              "  "
            ]
          },
          "metadata": {},
          "execution_count": 16
        }
      ],
      "source": [
        "data = data[['sentiment', 'text']]\n",
        "data.head()"
      ]
    },
    {
      "cell_type": "markdown",
      "metadata": {
        "id": "IvukQLcj-GnN"
      },
      "source": [
        "### Data exploration"
      ]
    },
    {
      "cell_type": "code",
      "execution_count": null,
      "metadata": {
        "id": "aEdAgetE-GnN",
        "colab": {
          "base_uri": "https://localhost:8080/",
          "height": 317
        },
        "outputId": "848752d7-2627-46d2-9090-7174ca72dc32"
      },
      "outputs": [
        {
          "output_type": "execute_result",
          "data": {
            "text/plain": [
              "<matplotlib.axes._subplots.AxesSubplot at 0x7f865a385850>"
            ]
          },
          "metadata": {},
          "execution_count": 17
        },
        {
          "output_type": "display_data",
          "data": {
            "text/plain": [
              "<Figure size 432x288 with 1 Axes>"
            ],
            "image/png": "[encoded data removed]"
          },
          "metadata": {
            "needs_background": "light"
          }
        }
      ],
      "source": [
        "data['sentiment'].value_counts().sort_index().plot.bar()"
      ]
    },
    {
      "cell_type": "code",
      "execution_count": null,
      "metadata": {
        "id": "i_UX5Qn0-GnO",
        "colab": {
          "base_uri": "https://localhost:8080/",
          "height": 283
        },
        "outputId": "3d9e82cd-9d63-4b12-b094-8a8859a73773"
      },
      "outputs": [
        {
          "output_type": "execute_result",
          "data": {
            "text/plain": [
              "<matplotlib.axes._subplots.AxesSubplot at 0x7f86502483d0>"
            ]
          },
          "metadata": {},
          "execution_count": 18
        },
        {
          "output_type": "display_data",
          "data": {
            "text/plain": [
              "<Figure size 432x288 with 1 Axes>"
            ],
            "image/png": "[encoded data removed]"
          },
          "metadata": {
            "needs_background": "light"
          }
        }
      ],
      "source": [
        "data['text'].str.len().plot.hist()"
      ]
    },
    {
      "cell_type": "markdown",
      "metadata": {
        "id": "WX3Rexb5-GnQ"
      },
      "source": [
        "### Preprocessing"
      ]
    },
    {
      "cell_type": "code",
      "execution_count": null,
      "metadata": {
        "id": "Qufu8vik-GnR",
        "colab": {
          "base_uri": "https://localhost:8080/",
          "height": 206
        },
        "outputId": "899c7630-7f27-444d-c0e0-70b2d440bdf5"
      },
      "outputs": [
        {
          "output_type": "execute_result",
          "data": {
            "text/plain": [
              "  sentiment                                               text\n",
              "0   neutral                      beer olympics runners up     \n",
              "1  negative  olympic news  greatbritain  mofarah  olympics ...\n",
              "2  negative      olympic       every video on any gender ba...\n",
              "3  positive  team toyota s jessie diggins becomes first ame...\n",
              "4  positive      rudy and embiid playing in olympic for fra..."
            ],
            "text/html": [
              "\n",
              "  <div id=\"df-1a08a8fe-e4f7-442f-afe5-4bb36a78b2e1\">\n",
              "    <div class=\"colab-df-container\">\n",
              "      <div>\n",
              "<style scoped>\n",
              "    .dataframe tbody tr th:only-of-type {\n",
              "        vertical-align: middle;\n",
              "    }\n",
              "\n",
              "    .dataframe tbody tr th {\n",
              "        vertical-align: top;\n",
              "    }\n",
              "\n",
              "    .dataframe thead th {\n",
              "        text-align: right;\n",
              "    }\n",
              "</style>\n",
              "<table border=\"1\" class=\"dataframe\">\n",
              "  <thead>\n",
              "    <tr style=\"text-align: right;\">\n",
              "      <th></th>\n",
              "      <th>sentiment</th>\n",
              "      <th>text</th>\n",
              "    </tr>\n",
              "  </thead>\n",
              "  <tbody>\n",
              "    <tr>\n",
              "      <th>0</th>\n",
              "      <td>neutral</td>\n",
              "      <td>beer olympics runners up</td>\n",
              "    </tr>\n",
              "    <tr>\n",
              "      <th>1</th>\n",
              "      <td>negative</td>\n",
              "      <td>olympic news  greatbritain  mofarah  olympics ...</td>\n",
              "    </tr>\n",
              "    <tr>\n",
              "      <th>2</th>\n",
              "      <td>negative</td>\n",
              "      <td>olympic       every video on any gender ba...</td>\n",
              "    </tr>\n",
              "    <tr>\n",
              "      <th>3</th>\n",
              "      <td>positive</td>\n",
              "      <td>team toyota s jessie diggins becomes first ame...</td>\n",
              "    </tr>\n",
              "    <tr>\n",
              "      <th>4</th>\n",
              "      <td>positive</td>\n",
              "      <td>rudy and embiid playing in olympic for fra...</td>\n",
              "    </tr>\n",
              "  </tbody>\n",
              "</table>\n",
              "</div>\n",
              "      <button class=\"colab-df-convert\" onclick=\"convertToInteractive('df-1a08a8fe-e4f7-442f-afe5-4bb36a78b2e1')\"\n",
              "              title=\"Convert this dataframe to an interactive table.\"\n",
              "              style=\"display:none;\">\n",
              "        \n",
              "  <svg xmlns=\"http://www.w3.org/2000/svg\" height=\"24px\"viewBox=\"0 0 24 24\"\n",
              "       width=\"24px\">\n",
              "    <path d=\"M0 0h24v24H0V0z\" fill=\"none\"/>\n",
              "    <path d=\"M18.56 5.44l.94 2.06.94-2.06 2.06-.94-2.06-.94-.94-2.06-.94 2.06-2.06.94zm-11 1L8.5 8.5l.94-2.06 2.06-.94-2.06-.94L8.5 2.5l-.94 2.06-2.06.94zm10 10l.94 2.06.94-2.06 2.06-.94-2.06-.94-.94-2.06-.94 2.06-2.06.94z\"/><path d=\"M17.41 7.96l-1.37-1.37c-.4-.4-.92-.59-1.43-.59-.52 0-1.04.2-1.43.59L10.3 9.45l-7.72 7.72c-.78.78-.78 2.05 0 2.83L4 21.41c.39.39.9.59 1.41.59.51 0 1.02-.2 1.41-.59l7.78-7.78 2.81-2.81c.8-.78.8-2.07 0-2.86zM5.41 20L4 18.59l7.72-7.72 1.47 1.35L5.41 20z\"/>\n",
              "  </svg>\n",
              "      </button>\n",
              "      \n",
              "  <style>\n",
              "    .colab-df-container {\n",
              "      display:flex;\n",
              "      flex-wrap:wrap;\n",
              "      gap: 12px;\n",
              "    }\n",
              "\n",
              "    .colab-df-convert {\n",
              "      background-color: #E8F0FE;\n",
              "      border: none;\n",
              "      border-radius: 50%;\n",
              "      cursor: pointer;\n",
              "      display: none;\n",
              "      fill: #1967D2;\n",
              "      height: 32px;\n",
              "      padding: 0 0 0 0;\n",
              "      width: 32px;\n",
              "    }\n",
              "\n",
              "    .colab-df-convert:hover {\n",
              "      background-color: #E2EBFA;\n",
              "      box-shadow: 0px 1px 2px rgba(60, 64, 67, 0.3), 0px 1px 3px 1px rgba(60, 64, 67, 0.15);\n",
              "      fill: #174EA6;\n",
              "    }\n",
              "\n",
              "    [theme=dark] .colab-df-convert {\n",
              "      background-color: #3B4455;\n",
              "      fill: #D2E3FC;\n",
              "    }\n",
              "\n",
              "    [theme=dark] .colab-df-convert:hover {\n",
              "      background-color: #434B5C;\n",
              "      box-shadow: 0px 1px 3px 1px rgba(0, 0, 0, 0.15);\n",
              "      filter: drop-shadow(0px 1px 2px rgba(0, 0, 0, 0.3));\n",
              "      fill: #FFFFFF;\n",
              "    }\n",
              "  </style>\n",
              "\n",
              "      <script>\n",
              "        const buttonEl =\n",
              "          document.querySelector('#df-1a08a8fe-e4f7-442f-afe5-4bb36a78b2e1 button.colab-df-convert');\n",
              "        buttonEl.style.display =\n",
              "          google.colab.kernel.accessAllowed ? 'block' : 'none';\n",
              "\n",
              "        async function convertToInteractive(key) {\n",
              "          const element = document.querySelector('#df-1a08a8fe-e4f7-442f-afe5-4bb36a78b2e1');\n",
              "          const dataTable =\n",
              "            await google.colab.kernel.invokeFunction('convertToInteractive',\n",
              "                                                     [key], {});\n",
              "          if (!dataTable) return;\n",
              "\n",
              "          const docLinkHtml = 'Like what you see? Visit the ' +\n",
              "            '<a target=\"_blank\" href=https://colab.research.google.com/notebooks/data_table.ipynb>data table notebook</a>'\n",
              "            + ' to learn more about interactive tables.';\n",
              "          element.innerHTML = '';\n",
              "          dataTable['output_type'] = 'display_data';\n",
              "          await google.colab.output.renderOutput(dataTable, element);\n",
              "          const docLink = document.createElement('div');\n",
              "          docLink.innerHTML = docLinkHtml;\n",
              "          element.appendChild(docLink);\n",
              "        }\n",
              "      </script>\n",
              "    </div>\n",
              "  </div>\n",
              "  "
            ]
          },
          "metadata": {},
          "execution_count": 19
        }
      ],
      "source": [
        "data['text'] = data['text'].str.replace('@', '')\n",
        "data.head()"
      ]
    },
    {
      "cell_type": "code",
      "execution_count": null,
      "metadata": {
        "id": "0_SSp2nS-GnT",
        "colab": {
          "base_uri": "https://localhost:8080/"
        },
        "outputId": "9ccad9cd-6825-43ed-cd0a-f4e5f1fb9172"
      },
      "outputs": [
        {
          "output_type": "execute_result",
          "data": {
            "text/plain": [
              "0                        beer olympics runners up     \n",
              "1    olympic news  greatbritain  mofarah  olympics ...\n",
              "2        olympic       every video on any gender ba...\n",
              "3    team toyota s jessie diggins becomes first ame...\n",
              "4        rudy and embiid playing in olympic for fra...\n",
              "Name: text, dtype: object"
            ]
          },
          "metadata": {},
          "execution_count": 20
        }
      ],
      "source": [
        "data['text'].apply(lambda x: x.lower()) #transform text to lowercase\n",
        "data['text'] = data['text'].apply(lambda x: re.sub('[^a-zA-z0-9\\s]', '', x))\n",
        "data['text'].head()"
      ]
    },
    {
      "cell_type": "code",
      "execution_count": null,
      "metadata": {
        "id": "f0U4Lo1H-GnU",
        "colab": {
          "base_uri": "https://localhost:8080/"
        },
        "outputId": "69b13668-5042-4ed8-eabf-bf41330f027b"
      },
      "outputs": [
        {
          "output_type": "execute_result",
          "data": {
            "text/plain": [
              "array([[   0,    0,    0,    0,    0,    0,    0,    0,    0,    0,    0,\n",
              "           0,    0,    0,    0,    0,    0,    0,    0,    0,    0,    0,\n",
              "           0,    0,    0,    0,    0,    0,    0,    0,    0,    0,    0,\n",
              "           0,    0,    0,    0,    0,    0,    0,    0,    0,    0,    0,\n",
              "           0,    0,    0,    0,    0,    0,    0,    0,    0,    0,    0,\n",
              "           0,    0,    0,    0,    0,    0,    0,    0,    0,    0,    0,\n",
              "           0,    0,    0,    0,    0,    0,    0,    0,    0,    0, 1181,\n",
              "           4,  752,   56],\n",
              "       [   0,    0,    0,    0,    0,    0,    0,    0,    0,    0,    0,\n",
              "           0,    0,    0,    0,    0,    0,    0,    0,    0,    0,    0,\n",
              "           0,    0,    0,    0,    0,    0,    0,    0,    0,    0,    0,\n",
              "           0,    0,    0,    0,    0,    0,    0,    0,    0,    0,    0,\n",
              "           0,    0,    0,    0,    0,    0,    0,    0,    0,    0,    0,\n",
              "           0,    0,    0,    0,    0,    0,    0,    0,    0,    0,    2,\n",
              "         136, 4519,    4, 2442,  430,  502,   51,  215,  488,   76,  633,\n",
              "          28, 1495,    4],\n",
              "       [   0,    0,    0,    0,    0,    0,    0,    0,    0,    0,    0,\n",
              "           0,    0,    0,    0,    0,    0,    0,    0,    0,    0,    0,\n",
              "           0,    0,    0,    0,    0,    0,    0,    0,    0,    0,    0,\n",
              "           0,    0,    0,    0,    0,    0,    0,    0,    0,    2,  164,\n",
              "         387,   17,  165, 1496,  753,  982,  170,   19, 1799,    6,    1,\n",
              "        1800, 3825,   96,   53,   43,   13, 1085,  152, 1801,   23,    7,\n",
              "         353, 3342,   15,  108,   10, 1692, 3826,   11,  194,   26,    5,\n",
              "         844,    8,  194],\n",
              "       [   0,    0,    0,    0,    0,    0,    0,    0,    0,    0,    0,\n",
              "           0,    0,    0,    0,    0,    0,    0,    0,    0,    0,    0,\n",
              "           0,    0,    0,    0,    0,    0,    0,    0,    0,    0,    0,\n",
              "           0,    0,    0,    0,    0,    0,    0,    0,    0,    0,    0,\n",
              "           0,    0,    0,    0,    0,    0,    0,    0,    0,    0,    0,\n",
              "           0,    0,    0,    0,    0,    0,    0,   38,  579,   10, 1418,\n",
              "        1597,  865,   65,  260,  308,    3,   60,    6,    2,  213,  587,\n",
              "         596,  195,  120],\n",
              "       [   0,    0,    0,    0,    0,    0,    0,    0,    0,    0,    0,\n",
              "           0,    0,    0,    0,    0,    0,    0,    0,    0,    0,    0,\n",
              "           0,    0,    0,    0,    0,    0,    0,    0,    0,    0,    0,\n",
              "           0,    0,    0,    0,    0,    0,    0,    0,    0,    0,    0,\n",
              "           0,    0,    0,    0,    0,    0,    0,    0,    0,    0,    0,\n",
              "           0,    0,    0,    0,    0,    0,    0,    0,    0,    0,    0,\n",
              "           0,    0,    0,    0,    0,    0, 1497,    5,  452,  258,    6,\n",
              "           2,   11,  373]], dtype=int32)"
            ]
          },
          "metadata": {},
          "execution_count": 21
        }
      ],
      "source": [
        "tokenizer = Tokenizer(num_words=5000, split=\" \")\n",
        "tokenizer.fit_on_texts(data['text'].values)\n",
        "\n",
        "X = tokenizer.texts_to_sequences(data['text'].values)\n",
        "X = pad_sequences(X) # padding our text vector so they all have the same length\n",
        "X[:5]"
      ]
    },
    {
      "cell_type": "markdown",
      "metadata": {
        "id": "PUXBdzPX-GnV"
      },
      "source": [
        "### Creating model"
      ]
    },
    {
      "cell_type": "code",
      "execution_count": null,
      "metadata": {
        "id": "aTkALdgt-GnW",
        "colab": {
          "base_uri": "https://localhost:8080/"
        },
        "outputId": "b6b598a8-52a8-4215-8274-2ad9e0a60de2"
      },
      "outputs": [
        {
          "output_type": "stream",
          "name": "stdout",
          "text": [
            "WARNING:tensorflow:Layer lstm_2 will not use cuDNN kernels since it doesn't meet the criteria. It will use a generic GPU kernel as fallback when running on GPU.\n",
            "WARNING:tensorflow:Layer lstm_3 will not use cuDNN kernels since it doesn't meet the criteria. It will use a generic GPU kernel as fallback when running on GPU.\n"
          ]
        }
      ],
      "source": [
        "model = Sequential()\n",
        "model.add(Embedding(5000, 256, input_length=X.shape[1]))\n",
        "model.add(Dropout(0.3))\n",
        "model.add(LSTM(256, return_sequences=True, dropout=0.3, recurrent_dropout=0.2))\n",
        "model.add(LSTM(256, dropout=0.3, recurrent_dropout=0.2))\n",
        "model.add(Dense(3, activation='softmax'))"
      ]
    },
    {
      "cell_type": "code",
      "execution_count": null,
      "metadata": {
        "id": "dSG3HI9A-GnX",
        "colab": {
          "base_uri": "https://localhost:8080/"
        },
        "outputId": "55b42a10-9cb3-4543-d747-831ef636ea31"
      },
      "outputs": [
        {
          "output_type": "stream",
          "name": "stdout",
          "text": [
            "Model: \"sequential_1\"\n",
            "_________________________________________________________________\n",
            " Layer (type)                Output Shape              Param #   \n",
            "=================================================================\n",
            " embedding_1 (Embedding)     (None, 80, 256)           1280000   \n",
            "                                                                 \n",
            " dropout_1 (Dropout)         (None, 80, 256)           0         \n",
            "                                                                 \n",
            " lstm_2 (LSTM)               (None, 80, 256)           525312    \n",
            "                                                                 \n",
            " lstm_3 (LSTM)               (None, 256)               525312    \n",
            "                                                                 \n",
            " dense_1 (Dense)             (None, 3)                 771       \n",
            "                                                                 \n",
            "=================================================================\n",
            "Total params: 2,331,395\n",
            "Trainable params: 2,331,395\n",
            "Non-trainable params: 0\n",
            "_________________________________________________________________\n"
          ]
        }
      ],
      "source": [
        "model.compile(loss='categorical_crossentropy', optimizer='adam', metrics=['accuracy'])\n",
        "model.summary()"
      ]
    },
    {
      "cell_type": "code",
      "execution_count": null,
      "metadata": {
        "id": "hZ0EXQSj-GnY",
        "outputId": "a706621b-3888-4ba4-aa43-626c1662f270",
        "colab": {
          "base_uri": "https://localhost:8080/"
        }
      },
      "outputs": [
        {
          "output_type": "stream",
          "name": "stdout",
          "text": [
            "neutral [0 1 0]\n",
            "negative [1 0 0]\n",
            "negative [1 0 0]\n",
            "positive [0 0 1]\n",
            "positive [0 0 1]\n"
          ]
        },
        {
          "output_type": "execute_result",
          "data": {
            "text/plain": [
              "[None, None, None, None, None]"
            ]
          },
          "metadata": {},
          "execution_count": 24
        }
      ],
      "source": [
        "y = pd.get_dummies(data['sentiment']).values\n",
        "[print(data['sentiment'][i], y[i]) for i in range(0,5)]"
      ]
    },
    {
      "cell_type": "markdown",
      "metadata": {
        "id": "-221uS9m-GnZ"
      },
      "source": [
        "### Training model"
      ]
    },
    {
      "cell_type": "code",
      "execution_count": null,
      "metadata": {
        "id": "ivfQ-EkR-GnZ"
      },
      "outputs": [],
      "source": [
        "X_train, X_test, y_train, y_test = train_test_split(X, y, test_size=0.2, random_state=0)"
      ]
    },
    {
      "cell_type": "code",
      "execution_count": null,
      "metadata": {
        "id": "lLUg5Lbt-GnZ",
        "outputId": "ea1985dd-0dc8-4645-e457-951257089272",
        "colab": {
          "base_uri": "https://localhost:8080/"
        }
      },
      "outputs": [
        {
          "output_type": "stream",
          "name": "stdout",
          "text": [
            "Epoch 1/100\n",
            "124/124 [==============================] - 93s 691ms/step - loss: 0.8224 - accuracy: 0.6426 - val_loss: 0.6636 - val_accuracy: 0.7107\n",
            "Epoch 2/100\n",
            "124/124 [==============================] - 85s 689ms/step - loss: 0.4640 - accuracy: 0.8209 - val_loss: 0.5347 - val_accuracy: 0.8004\n",
            "Epoch 3/100\n",
            "124/124 [==============================] - 86s 692ms/step - loss: 0.2836 - accuracy: 0.8988 - val_loss: 0.5369 - val_accuracy: 0.8085\n",
            "Epoch 4/100\n",
            "124/124 [==============================] - 85s 688ms/step - loss: 0.2061 - accuracy: 0.9311 - val_loss: 0.6269 - val_accuracy: 0.8146\n",
            "Epoch 5/100\n",
            "124/124 [==============================] - 86s 693ms/step - loss: 0.1681 - accuracy: 0.9451 - val_loss: 0.6751 - val_accuracy: 0.8110\n",
            "Epoch 6/100\n",
            "124/124 [==============================] - 85s 684ms/step - loss: 0.1174 - accuracy: 0.9628 - val_loss: 0.6631 - val_accuracy: 0.8161\n",
            "Epoch 7/100\n",
            "124/124 [==============================] - 84s 675ms/step - loss: 0.1026 - accuracy: 0.9683 - val_loss: 0.7422 - val_accuracy: 0.8262\n",
            "Epoch 8/100\n",
            "124/124 [==============================] - 83s 669ms/step - loss: 0.0770 - accuracy: 0.9776 - val_loss: 0.7731 - val_accuracy: 0.8181\n",
            "Epoch 9/100\n",
            "124/124 [==============================] - 84s 674ms/step - loss: 0.0756 - accuracy: 0.9787 - val_loss: 0.8139 - val_accuracy: 0.8126\n",
            "Epoch 10/100\n",
            "124/124 [==============================] - 85s 688ms/step - loss: 0.0742 - accuracy: 0.9771 - val_loss: 0.8815 - val_accuracy: 0.8166\n",
            "Epoch 11/100\n",
            "124/124 [==============================] - 84s 674ms/step - loss: 0.0618 - accuracy: 0.9814 - val_loss: 0.7902 - val_accuracy: 0.8095\n",
            "Epoch 12/100\n",
            "124/124 [==============================] - 83s 669ms/step - loss: 0.0578 - accuracy: 0.9825 - val_loss: 0.8935 - val_accuracy: 0.8197\n",
            "Epoch 13/100\n",
            "124/124 [==============================] - 84s 677ms/step - loss: 0.0543 - accuracy: 0.9834 - val_loss: 0.9376 - val_accuracy: 0.8095\n",
            "Epoch 14/100\n",
            "124/124 [==============================] - 83s 666ms/step - loss: 0.0511 - accuracy: 0.9834 - val_loss: 0.9273 - val_accuracy: 0.8161\n",
            "Epoch 15/100\n",
            "124/124 [==============================] - 83s 670ms/step - loss: 0.0469 - accuracy: 0.9856 - val_loss: 1.0124 - val_accuracy: 0.8065\n",
            "Epoch 16/100\n",
            "124/124 [==============================] - 84s 676ms/step - loss: 0.0343 - accuracy: 0.9886 - val_loss: 1.1374 - val_accuracy: 0.8065\n",
            "Epoch 17/100\n",
            "124/124 [==============================] - 85s 685ms/step - loss: 0.0284 - accuracy: 0.9913 - val_loss: 1.1176 - val_accuracy: 0.8065\n",
            "Epoch 18/100\n",
            "124/124 [==============================] - 84s 680ms/step - loss: 0.0253 - accuracy: 0.9930 - val_loss: 1.1233 - val_accuracy: 0.8085\n",
            "Epoch 19/100\n",
            "124/124 [==============================] - 82s 665ms/step - loss: 0.0242 - accuracy: 0.9924 - val_loss: 1.2897 - val_accuracy: 0.8095\n",
            "Epoch 20/100\n",
            "124/124 [==============================] - 83s 668ms/step - loss: 0.0248 - accuracy: 0.9919 - val_loss: 1.2931 - val_accuracy: 0.8060\n",
            "Epoch 21/100\n",
            "124/124 [==============================] - 84s 677ms/step - loss: 0.0196 - accuracy: 0.9947 - val_loss: 1.2630 - val_accuracy: 0.8070\n",
            "Epoch 22/100\n",
            "124/124 [==============================] - 84s 679ms/step - loss: 0.0392 - accuracy: 0.9871 - val_loss: 1.1242 - val_accuracy: 0.8024\n",
            "Epoch 23/100\n",
            "124/124 [==============================] - 83s 670ms/step - loss: 0.0211 - accuracy: 0.9928 - val_loss: 1.2358 - val_accuracy: 0.8050\n",
            "Epoch 24/100\n",
            "124/124 [==============================] - 83s 667ms/step - loss: 0.0172 - accuracy: 0.9944 - val_loss: 1.3571 - val_accuracy: 0.7974\n",
            "Epoch 25/100\n",
            "124/124 [==============================] - 83s 672ms/step - loss: 0.0220 - accuracy: 0.9928 - val_loss: 1.2787 - val_accuracy: 0.8060\n",
            "Epoch 26/100\n",
            "124/124 [==============================] - 84s 679ms/step - loss: 0.0356 - accuracy: 0.9878 - val_loss: 1.0812 - val_accuracy: 0.8080\n",
            "Epoch 27/100\n",
            "124/124 [==============================] - 84s 676ms/step - loss: 0.0316 - accuracy: 0.9905 - val_loss: 1.1640 - val_accuracy: 0.8060\n",
            "Epoch 28/100\n",
            "124/124 [==============================] - 83s 673ms/step - loss: 0.0164 - accuracy: 0.9948 - val_loss: 1.3588 - val_accuracy: 0.7882\n",
            "Epoch 29/100\n",
            "124/124 [==============================] - 84s 678ms/step - loss: 0.0165 - accuracy: 0.9954 - val_loss: 1.3063 - val_accuracy: 0.8131\n",
            "Epoch 30/100\n",
            "124/124 [==============================] - 83s 670ms/step - loss: 0.0130 - accuracy: 0.9956 - val_loss: 1.4124 - val_accuracy: 0.8019\n",
            "Epoch 31/100\n",
            "124/124 [==============================] - 84s 674ms/step - loss: 0.0148 - accuracy: 0.9951 - val_loss: 1.4117 - val_accuracy: 0.8105\n",
            "Epoch 32/100\n",
            "124/124 [==============================] - 84s 677ms/step - loss: 0.0113 - accuracy: 0.9965 - val_loss: 1.5460 - val_accuracy: 0.8034\n",
            "Epoch 33/100\n",
            "124/124 [==============================] - 83s 672ms/step - loss: 0.0165 - accuracy: 0.9947 - val_loss: 1.2321 - val_accuracy: 0.8009\n",
            "Epoch 34/100\n",
            "124/124 [==============================] - 83s 673ms/step - loss: 0.0155 - accuracy: 0.9940 - val_loss: 1.3494 - val_accuracy: 0.8045\n",
            "Epoch 35/100\n",
            "124/124 [==============================] - 84s 678ms/step - loss: 0.0082 - accuracy: 0.9972 - val_loss: 1.4815 - val_accuracy: 0.8045\n",
            "Epoch 36/100\n",
            "124/124 [==============================] - 83s 672ms/step - loss: 0.0076 - accuracy: 0.9981 - val_loss: 1.4753 - val_accuracy: 0.7989\n",
            "Epoch 37/100\n",
            "124/124 [==============================] - 83s 668ms/step - loss: 0.0087 - accuracy: 0.9970 - val_loss: 1.4799 - val_accuracy: 0.7984\n",
            "Epoch 38/100\n",
            "124/124 [==============================] - 83s 671ms/step - loss: 0.0170 - accuracy: 0.9948 - val_loss: 1.3403 - val_accuracy: 0.8050\n",
            "Epoch 39/100\n",
            "124/124 [==============================] - 84s 679ms/step - loss: 0.0091 - accuracy: 0.9968 - val_loss: 1.4520 - val_accuracy: 0.8029\n",
            "Epoch 40/100\n",
            "124/124 [==============================] - 83s 669ms/step - loss: 0.0148 - accuracy: 0.9957 - val_loss: 1.3546 - val_accuracy: 0.8004\n",
            "Epoch 41/100\n",
            "124/124 [==============================] - 84s 675ms/step - loss: 0.0100 - accuracy: 0.9970 - val_loss: 1.4261 - val_accuracy: 0.8050\n",
            "Epoch 42/100\n",
            "124/124 [==============================] - 83s 667ms/step - loss: 0.0096 - accuracy: 0.9967 - val_loss: 1.4504 - val_accuracy: 0.8070\n",
            "Epoch 43/100\n",
            "124/124 [==============================] - 84s 674ms/step - loss: 0.0138 - accuracy: 0.9957 - val_loss: 1.3033 - val_accuracy: 0.8121\n",
            "Epoch 44/100\n",
            "124/124 [==============================] - 82s 665ms/step - loss: 0.0108 - accuracy: 0.9958 - val_loss: 1.3754 - val_accuracy: 0.8040\n",
            "Epoch 45/100\n",
            "124/124 [==============================] - 83s 667ms/step - loss: 0.0107 - accuracy: 0.9956 - val_loss: 1.4445 - val_accuracy: 0.8131\n",
            "Epoch 46/100\n",
            "124/124 [==============================] - 85s 681ms/step - loss: 0.0122 - accuracy: 0.9959 - val_loss: 1.3056 - val_accuracy: 0.8040\n",
            "Epoch 47/100\n",
            "124/124 [==============================] - 83s 674ms/step - loss: 0.0115 - accuracy: 0.9962 - val_loss: 1.3222 - val_accuracy: 0.7984\n",
            "Epoch 48/100\n",
            "124/124 [==============================] - 83s 665ms/step - loss: 0.0057 - accuracy: 0.9980 - val_loss: 1.5127 - val_accuracy: 0.7928\n",
            "Epoch 49/100\n",
            "124/124 [==============================] - 83s 668ms/step - loss: 0.0066 - accuracy: 0.9978 - val_loss: 1.5311 - val_accuracy: 0.8014\n",
            "Epoch 50/100\n",
            "124/124 [==============================] - 83s 669ms/step - loss: 0.0069 - accuracy: 0.9973 - val_loss: 1.4942 - val_accuracy: 0.8029\n",
            "Epoch 51/100\n",
            "124/124 [==============================] - 84s 674ms/step - loss: 0.0053 - accuracy: 0.9980 - val_loss: 1.4756 - val_accuracy: 0.8121\n",
            "Epoch 52/100\n",
            "124/124 [==============================] - 84s 675ms/step - loss: 0.0048 - accuracy: 0.9984 - val_loss: 1.5262 - val_accuracy: 0.8121\n",
            "Epoch 53/100\n",
            "124/124 [==============================] - 84s 677ms/step - loss: 0.0044 - accuracy: 0.9978 - val_loss: 1.5852 - val_accuracy: 0.8080\n",
            "Epoch 54/100\n",
            "124/124 [==============================] - 84s 678ms/step - loss: 0.0080 - accuracy: 0.9971 - val_loss: 1.3859 - val_accuracy: 0.7994\n",
            "Epoch 55/100\n",
            "124/124 [==============================] - 85s 682ms/step - loss: 0.0058 - accuracy: 0.9980 - val_loss: 1.6152 - val_accuracy: 0.7948\n",
            "Epoch 56/100\n",
            "124/124 [==============================] - 85s 683ms/step - loss: 0.0098 - accuracy: 0.9961 - val_loss: 1.4465 - val_accuracy: 0.8065\n",
            "Epoch 57/100\n",
            "124/124 [==============================] - 85s 681ms/step - loss: 0.0112 - accuracy: 0.9963 - val_loss: 1.5089 - val_accuracy: 0.7999\n",
            "Epoch 58/100\n",
            "124/124 [==============================] - 84s 678ms/step - loss: 0.0073 - accuracy: 0.9977 - val_loss: 1.6193 - val_accuracy: 0.8014\n",
            "Epoch 59/100\n",
            "124/124 [==============================] - 85s 683ms/step - loss: 0.0090 - accuracy: 0.9970 - val_loss: 1.6868 - val_accuracy: 0.8055\n",
            "Epoch 60/100\n",
            "124/124 [==============================] - 84s 677ms/step - loss: 0.0149 - accuracy: 0.9947 - val_loss: 1.4747 - val_accuracy: 0.8045\n",
            "Epoch 61/100\n",
            "124/124 [==============================] - 84s 678ms/step - loss: 0.0108 - accuracy: 0.9968 - val_loss: 1.4003 - val_accuracy: 0.8126\n",
            "Epoch 62/100\n",
            "124/124 [==============================] - 84s 675ms/step - loss: 0.0057 - accuracy: 0.9976 - val_loss: 1.4560 - val_accuracy: 0.7969\n",
            "Epoch 63/100\n",
            "124/124 [==============================] - 84s 678ms/step - loss: 0.0068 - accuracy: 0.9980 - val_loss: 1.4878 - val_accuracy: 0.8019\n",
            "Epoch 64/100\n",
            "124/124 [==============================] - 82s 661ms/step - loss: 0.0061 - accuracy: 0.9980 - val_loss: 1.5405 - val_accuracy: 0.8065\n",
            "Epoch 65/100\n",
            "124/124 [==============================] - 83s 668ms/step - loss: 0.0046 - accuracy: 0.9980 - val_loss: 1.5674 - val_accuracy: 0.8075\n",
            "Epoch 66/100\n",
            "124/124 [==============================] - 83s 665ms/step - loss: 0.0040 - accuracy: 0.9987 - val_loss: 1.6368 - val_accuracy: 0.8024\n",
            "Epoch 67/100\n",
            "124/124 [==============================] - 83s 672ms/step - loss: 0.0036 - accuracy: 0.9986 - val_loss: 1.6637 - val_accuracy: 0.8050\n",
            "Epoch 68/100\n",
            "124/124 [==============================] - 82s 665ms/step - loss: 0.0042 - accuracy: 0.9980 - val_loss: 1.6899 - val_accuracy: 0.8055\n",
            "Epoch 69/100\n",
            "124/124 [==============================] - 83s 666ms/step - loss: 0.0049 - accuracy: 0.9985 - val_loss: 1.6449 - val_accuracy: 0.8100\n",
            "Epoch 70/100\n",
            "124/124 [==============================] - 82s 663ms/step - loss: 0.0053 - accuracy: 0.9981 - val_loss: 1.5843 - val_accuracy: 0.8034\n",
            "Epoch 71/100\n",
            "124/124 [==============================] - 82s 664ms/step - loss: 0.0035 - accuracy: 0.9986 - val_loss: 1.6366 - val_accuracy: 0.8126\n",
            "Epoch 72/100\n",
            "124/124 [==============================] - 83s 667ms/step - loss: 0.0033 - accuracy: 0.9987 - val_loss: 1.7246 - val_accuracy: 0.8055\n",
            "Epoch 73/100\n",
            "124/124 [==============================] - 83s 672ms/step - loss: 0.0032 - accuracy: 0.9985 - val_loss: 1.7169 - val_accuracy: 0.8075\n",
            "Epoch 74/100\n",
            "124/124 [==============================] - 82s 664ms/step - loss: 0.0029 - accuracy: 0.9986 - val_loss: 1.7593 - val_accuracy: 0.8075\n",
            "Epoch 75/100\n",
            "124/124 [==============================] - 83s 669ms/step - loss: 0.0032 - accuracy: 0.9982 - val_loss: 1.7891 - val_accuracy: 0.8060\n",
            "Epoch 76/100\n",
            "124/124 [==============================] - 83s 672ms/step - loss: 0.0040 - accuracy: 0.9984 - val_loss: 1.8149 - val_accuracy: 0.8075\n",
            "Epoch 77/100\n",
            "124/124 [==============================] - 83s 671ms/step - loss: 0.0052 - accuracy: 0.9978 - val_loss: 1.8417 - val_accuracy: 0.8029\n",
            "Epoch 78/100\n",
            "124/124 [==============================] - 83s 673ms/step - loss: 0.0148 - accuracy: 0.9951 - val_loss: 1.2831 - val_accuracy: 0.7928\n",
            "Epoch 79/100\n",
            "124/124 [==============================] - 82s 663ms/step - loss: 0.0161 - accuracy: 0.9948 - val_loss: 1.2595 - val_accuracy: 0.8004\n",
            "Epoch 80/100\n",
            "124/124 [==============================] - 83s 668ms/step - loss: 0.0068 - accuracy: 0.9980 - val_loss: 1.4003 - val_accuracy: 0.8065\n",
            "Epoch 81/100\n",
            "124/124 [==============================] - 83s 666ms/step - loss: 0.0053 - accuracy: 0.9977 - val_loss: 1.6054 - val_accuracy: 0.7984\n",
            "Epoch 82/100\n",
            "124/124 [==============================] - 84s 676ms/step - loss: 0.0056 - accuracy: 0.9975 - val_loss: 1.5126 - val_accuracy: 0.7974\n",
            "Epoch 83/100\n",
            "124/124 [==============================] - 83s 668ms/step - loss: 0.0065 - accuracy: 0.9981 - val_loss: 1.4855 - val_accuracy: 0.7999\n",
            "Epoch 84/100\n",
            "124/124 [==============================] - 83s 670ms/step - loss: 0.0046 - accuracy: 0.9986 - val_loss: 1.5632 - val_accuracy: 0.8045\n",
            "Epoch 85/100\n",
            "124/124 [==============================] - 83s 669ms/step - loss: 0.0036 - accuracy: 0.9987 - val_loss: 1.6157 - val_accuracy: 0.8034\n",
            "Epoch 86/100\n",
            "124/124 [==============================] - 83s 670ms/step - loss: 0.0046 - accuracy: 0.9980 - val_loss: 1.5783 - val_accuracy: 0.7979\n",
            "Epoch 87/100\n",
            "124/124 [==============================] - 84s 678ms/step - loss: 0.0040 - accuracy: 0.9978 - val_loss: 1.6131 - val_accuracy: 0.8029\n",
            "Epoch 88/100\n",
            "124/124 [==============================] - 84s 678ms/step - loss: 0.0069 - accuracy: 0.9973 - val_loss: 1.4095 - val_accuracy: 0.8004\n",
            "Epoch 89/100\n",
            "124/124 [==============================] - 85s 686ms/step - loss: 0.0048 - accuracy: 0.9976 - val_loss: 1.6675 - val_accuracy: 0.8004\n",
            "Epoch 90/100\n",
            "124/124 [==============================] - 83s 673ms/step - loss: 0.0042 - accuracy: 0.9985 - val_loss: 1.6771 - val_accuracy: 0.8019\n",
            "Epoch 91/100\n",
            "124/124 [==============================] - 83s 666ms/step - loss: 0.0035 - accuracy: 0.9985 - val_loss: 1.6999 - val_accuracy: 0.8075\n",
            "Epoch 92/100\n",
            "124/124 [==============================] - 83s 671ms/step - loss: 0.0075 - accuracy: 0.9975 - val_loss: 1.5406 - val_accuracy: 0.8029\n",
            "Epoch 93/100\n",
            "124/124 [==============================] - 84s 677ms/step - loss: 0.0069 - accuracy: 0.9966 - val_loss: 1.5421 - val_accuracy: 0.7974\n",
            "Epoch 94/100\n",
            "124/124 [==============================] - 84s 676ms/step - loss: 0.0077 - accuracy: 0.9976 - val_loss: 1.4539 - val_accuracy: 0.8105\n",
            "Epoch 95/100\n",
            "124/124 [==============================] - 83s 671ms/step - loss: 0.0049 - accuracy: 0.9980 - val_loss: 1.5448 - val_accuracy: 0.8009\n",
            "Epoch 96/100\n",
            "124/124 [==============================] - 84s 675ms/step - loss: 0.0045 - accuracy: 0.9981 - val_loss: 1.6215 - val_accuracy: 0.8040\n",
            "Epoch 97/100\n",
            "124/124 [==============================] - 83s 670ms/step - loss: 0.0041 - accuracy: 0.9987 - val_loss: 1.5590 - val_accuracy: 0.8080\n",
            "Epoch 98/100\n",
            "124/124 [==============================] - 84s 675ms/step - loss: 0.0041 - accuracy: 0.9982 - val_loss: 1.5903 - val_accuracy: 0.8100\n",
            "Epoch 99/100\n",
            "124/124 [==============================] - 84s 679ms/step - loss: 0.0041 - accuracy: 0.9981 - val_loss: 1.5982 - val_accuracy: 0.8090\n",
            "Epoch 100/100\n",
            "124/124 [==============================] - 84s 677ms/step - loss: 0.0029 - accuracy: 0.9986 - val_loss: 1.6441 - val_accuracy: 0.8050\n"
          ]
        }
      ],
      "source": [
        "batch_size = 64\n",
        "epochs = 100\n",
        "\n",
        "history = model.fit(X_train, y_train, epochs=epochs, validation_data=(X_test,y_test), batch_size=batch_size, verbose=1)"
      ]
    },
    {
      "cell_type": "code",
      "execution_count": null,
      "metadata": {
        "id": "2DaciEmj-Gna",
        "colab": {
          "base_uri": "https://localhost:8080/",
          "height": 573
        },
        "outputId": "4a3b41cf-9e70-405f-aaa9-5e0ba7e4f1fc"
      },
      "outputs": [
        {
          "output_type": "display_data",
          "data": {
            "text/plain": [
              "<Figure size 432x288 with 1 Axes>"
            ],
            "image/png": "[encoded data removed]"
          },
          "metadata": {
            "needs_background": "light"
          }
        },
        {
          "output_type": "display_data",
          "data": {
            "text/plain": [
              "<Figure size 432x288 with 1 Axes>"
            ],
            "image/png": "[encoded data removed]"
          },
          "metadata": {
            "needs_background": "light"
          }
        }
      ],
      "source": [
        "#plot accuracy and recall\n",
        "# summarize history for accuracy\n",
        "plt.plot(history.history['accuracy'])\n",
        "plt.plot(history.history['val_accuracy'])\n",
        "plt.title('model accuracy')\n",
        "plt.ylabel('accuracy')\n",
        "plt.xlabel('epoch')\n",
        "plt.legend(['train', 'test'], loc='upper left')\n",
        "plt.show()\n",
        "# summarize history for loss\n",
        "plt.plot(history.history['loss'])\n",
        "plt.plot(history.history['val_loss'])\n",
        "plt.title('model loss')\n",
        "plt.ylabel('loss')\n",
        "plt.xlabel('epoch')\n",
        "plt.legend(['train', 'test'], loc='upper left')\n",
        "plt.show()\n",
        "\n",
        "\n",
        "\n",
        "\n",
        "model.save('sentiment_analysis.h5')"
      ]
    },
    {
      "cell_type": "markdown",
      "metadata": {
        "id": "VJ0HNOCA-Gna"
      },
      "source": [
        "### Testing model"
      ]
    },
    {
      "cell_type": "code",
      "execution_count": null,
      "metadata": {
        "id": "F2oybBFT-Gna",
        "colab": {
          "base_uri": "https://localhost:8080/"
        },
        "outputId": "73db75f4-3af5-4a04-ddaf-b7df28702e9b"
      },
      "outputs": [
        {
          "output_type": "stream",
          "name": "stdout",
          "text": [
            "beer olympics runners up      [1.0028591e-08 1.0083731e-09 1.0000000e+00] [0 0 1]\n",
            "olympic news  greatbritain  mofarah  olympics  trackandfield mo farah pessimistic about track future after return from missing olympics       [2.9228140e-05 9.9995947e-01 1.1355282e-05] [0 1 0]\n",
            "    olympic       every video on any gender based issue devolves into an argument in the comments section over who has it worse  which ends with a guy arguing that women s beauty standards for men are unrealistic and exclude 80  of men [6.5048146e-03 9.9346960e-01 2.5582189e-05] [0 1 0]\n",
            "team toyota s jessie diggins becomes first american woman to medal in olympic long distance cross country race       [1.7789564e-07 2.9179082e-08 9.9999976e-01] [0 0 1]\n",
            "    rudy and embiid playing in olympic for france      [8.7778903e-07 7.0928621e-07 9.9999845e-01] [0 0 1]\n"
          ]
        },
        {
          "output_type": "execute_result",
          "data": {
            "text/plain": [
              "[None, None, None, None, None]"
            ]
          },
          "metadata": {},
          "execution_count": 28
        }
      ],
      "source": [
        "predictions = model.predict(X_test)\n",
        "\n",
        "[print(data['text'][i], predictions[i], y_test[i]) for i in range(0, 5)]"
      ]
    },
    {
      "cell_type": "code",
      "execution_count": null,
      "metadata": {
        "id": "x3IUFOyc-Gna",
        "colab": {
          "base_uri": "https://localhost:8080/"
        },
        "outputId": "427c9e2a-bbba-448a-9821-3da2fe9a6bb2"
      },
      "outputs": [
        {
          "output_type": "stream",
          "name": "stdout",
          "text": [
            "Positive predictions: 1046\n",
            "Neutral predictions: 557\n",
            "Negative predictions: 371\n",
            "Real positive: 981\n",
            "Real neutral: 593\n",
            "Real negative: 400\n"
          ]
        }
      ],
      "source": [
        "pos_count, neu_count, neg_count = 0, 0, 0\n",
        "real_pos, real_neu, real_neg = 0, 0, 0\n",
        "for i, prediction in enumerate(predictions):\n",
        "    if np.argmax(prediction)==2:\n",
        "        pos_count += 1\n",
        "    elif np.argmax(prediction)==1:\n",
        "        neu_count += 1\n",
        "    else:\n",
        "        neg_count += 1\n",
        "    \n",
        "    if np.argmax(y_test[i])==2:\n",
        "        real_pos += 1\n",
        "    elif np.argmax(y_test[i])==1:    \n",
        "        real_neu += 1\n",
        "    else:\n",
        "        real_neg +=1\n",
        "\n",
        "print('Positive predictions:', pos_count)\n",
        "print('Neutral predictions:', neu_count)\n",
        "print('Negative predictions:', neg_count)\n",
        "print('Real positive:', real_pos)\n",
        "print('Real neutral:', real_neu)\n",
        "print('Real negative:', real_neg)"
      ]
    },
    {
      "cell_type": "code",
      "source": [
        "total_result = int(real_pos) + int(real_neu) + int(real_neg)\n",
        "print(total_result)\n",
        "\n",
        "per_real_pos = (real_pos/total_result)*100\n",
        "per_real_neu = (real_neu/total_result)*100\n",
        "per_real_neg = (real_neg/total_result)*100\n",
        "print(per_real_pos)\n",
        "print(per_real_neu)\n",
        "print(per_real_neg)\n",
        "total_percentage = per_real_neg + per_real_pos + per_real_neu\n",
        "print(total_percentage)"
      ],
      "metadata": {
        "id": "GqEJAaXpxy1r",
        "colab": {
          "base_uri": "https://localhost:8080/"
        },
        "outputId": "fc82ea91-932e-4170-d7a7-ea9af5912e66"
      },
      "execution_count": null,
      "outputs": [
        {
          "output_type": "stream",
          "name": "stdout",
          "text": [
            "1974\n",
            "49.69604863221885\n",
            "30.040526849037484\n",
            "20.263424518743665\n",
            "100.0\n"
          ]
        }
      ]
    },
    {
      "cell_type": "code",
      "source": [
        "keyword = \"Tokyo 2020 summer olympics\"\n",
        "labels = ['Positive ['+str(per_real_pos)+'%]' , 'Neutral ['+str(per_real_neu)+'%]','Negative ['+str(per_real_neg)+'%]']\n",
        "sizes = [real_pos, real_neu, real_neg]\n",
        "colors = ['yellowgreen', 'blue','red']\n",
        "patches, texts = plt.pie(sizes,colors=colors, startangle=90)\n",
        "plt.style.use('default')\n",
        "plt.legend(labels)\n",
        "plt.title(\"Sentiment Analysis Result for keyword=  \"+keyword+\"\" )\n",
        "plt.axis('equal')\n",
        "plt.show()"
      ],
      "metadata": {
        "id": "-ccyK1w7on_o",
        "colab": {
          "base_uri": "https://localhost:8080/",
          "height": 264
        },
        "outputId": "2cdd6eac-b98d-489b-a4ee-016c3f5ef7fe"
      },
      "execution_count": null,
      "outputs": [
        {
          "output_type": "display_data",
          "data": {
            "text/plain": [
              "<Figure size 432x288 with 1 Axes>"
            ],
            "image/png": "[encoded data removed]"
          },
          "metadata": {}
        }
      ]
    }
  ],
  "metadata": {
    "kernelspec": {
      "display_name": "Python 3",
      "language": "python",
      "name": "python3"
    },
    "language_info": {
      "codemirror_mode": {
        "name": "ipython",
        "version": 3
      },
      "file_extension": ".py",
      "mimetype": "text/x-python",
      "name": "python",
      "nbconvert_exporter": "python",
      "pygments_lexer": "ipython3",
      "version": "3.7.4"
    },
    "colab": {
      "name": "Olympic Sentiment Analysis.ipynb",
      "provenance": [],
      "collapsed_sections": [],
      "include_colab_link": true
    },
    "accelerator": "GPU"
  },
  "nbformat": 4,
  "nbformat_minor": 0
}