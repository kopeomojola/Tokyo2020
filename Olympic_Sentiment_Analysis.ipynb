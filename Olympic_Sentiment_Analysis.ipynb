{
  "cells": [
    {
      "cell_type": "markdown",
      "metadata": {
        "id": "view-in-github",
        "colab_type": "text"
      },
      "source": [
        "<a href=\"https://colab.research.google.com/github/kopeomojola/Tokyo2020/blob/main/Olympic_Sentiment_Analysis.ipynb\" target=\"_parent\"><img src=\"https://colab.research.google.com/assets/colab-badge.svg\" alt=\"Open In Colab\"/></a>"
      ]
    },
    {
      "cell_type": "markdown",
      "metadata": {
        "id": "SFLgO4Hn-Gm7"
      },
      "source": [
        "# Sentiment Analysis with an RNN"
      ]
    },
    {
      "cell_type": "markdown",
      "metadata": {
        "id": "dLvpRCsE-GnC"
      },
      "source": [
        "<table align=\"left\"><td>\n",
        "  <a target=\"_blank\"  href=\"https://colab.research.google.com/drive/1EaAYMOMrPz9bR6URojmgO1Ta9rwavCo1#scrollTo=dLvpRCsE-GnC\">\n",
        "    <img src=\"https://www.tensorflow.org/images/colab_logo_32px.png\" />Run in Google Colab\n",
        "  </a>\n",
        "</td><td>\n",
        "  <a target=\"_blank\"  href=\"https://github.com/kopeomojola/Tokyo2020/blob/main/Olympic_Sentiment_Analysis.ipynb\">\n",
        "    <img width=32px src=\"https://www.tensorflow.org/images/GitHub-Mark-32px.png\" />View source on GitHub</a>\n",
        "</td></table>"
      ]
    },
    {
      "cell_type": "markdown",
      "metadata": {
        "id": "0XCoOSKW-GnG"
      },
      "source": [
        "## Sentiment Analysis with an Recurrent Neural Network\n",
        "\n",
        "We will use a RNN for sentiment analysis because we care for the sequence in the data."
      ]
    },
    {
      "cell_type": "markdown",
      "metadata": {
        "id": "Nl_oX17s-GnH"
      },
      "source": [
        "### Imports\n",
        "Importing numpy for "
      ]
    },
    {
      "cell_type": "code",
      "execution_count": 3,
      "metadata": {
        "id": "4L4wX7zP-GnH"
      },
      "outputs": [],
      "source": [
        "import re\n",
        "import numpy as np\n",
        "import pandas as pd\n",
        "import seaborn as sns\n",
        "from sklearn.model_selection import train_test_split\n",
        "from sklearn.metrics import confusion_matrix\n",
        "import matplotlib.pyplot as plt\n",
        "\n",
        "from keras.models import Sequential, load_model\n",
        "from keras.layers import Dense, LSTM, Embedding, Dropout\n",
        "from keras.preprocessing.text import Tokenizer\n",
        "from keras.preprocessing.sequence import pad_sequences"
      ]
    },
    {
      "cell_type": "markdown",
      "metadata": {
        "id": "KqK6QgCW-GnK"
      },
      "source": [
        "### Loading in Dataset"
      ]
    },
    {
      "cell_type": "code",
      "execution_count": 4,
      "metadata": {
        "id": "-gAcG3Xg-GnL",
        "colab": {
          "base_uri": "https://localhost:8080/",
          "height": 225
        },
        "outputId": "da1179dd-980f-4ddd-ca03-a4fa525aaf86"
      },
      "outputs": [
        {
          "output_type": "stream",
          "name": "stdout",
          "text": [
            "(9868, 10)\n"
          ]
        },
        {
          "output_type": "execute_result",
          "data": {
            "text/plain": [
              "   Unnamed: 0                                                  0  \\\n",
              "0        3702              @Anna35876145 True Olympic Champions!   \n",
              "1        2818  @CSLewisDaily Sorry, i am not a Archer to aim ...   \n",
              "2         844  @Girl_Lafleur He’s our rat! 🇨🇦🇨🇦🇨🇦 would’ve wo...   \n",
              "3        1844  getting ready for the hood olympics like  http...   \n",
              "4        4190  Figure Skating Body Details Proposal to Hike A...   \n",
              "\n",
              "                                                text  polarity  subjectivity  \\\n",
              "0                            true olympic champions       0.35          0.65   \n",
              "1    sorry  i am not a archer to aim at    pls ca...     -0.50          1.00   \n",
              "2    lafleur he s our rat         would ve won ol...      0.00          0.00   \n",
              "3        getting ready for the hood olympics like         0.20          0.50   \n",
              "4  figure skating body details proposal to hike a...      0.00          0.00   \n",
              "\n",
              "  sentiment    neg    neu    pos  compound  \n",
              "0  positive  0.000  0.139  0.861    0.7351  \n",
              "1   neutral  0.096  0.809  0.096    0.0000  \n",
              "2  positive  0.000  0.730  0.270    0.5719  \n",
              "3  positive  0.000  0.500  0.500    0.6124  \n",
              "4   neutral  0.000  1.000  0.000    0.0000  "
            ],
            "text/html": [
              "\n",
              "  <div id=\"df-352a34a1-4de1-4dbe-8150-0c74bc1e1e0b\">\n",
              "    <div class=\"colab-df-container\">\n",
              "      <div>\n",
              "<style scoped>\n",
              "    .dataframe tbody tr th:only-of-type {\n",
              "        vertical-align: middle;\n",
              "    }\n",
              "\n",
              "    .dataframe tbody tr th {\n",
              "        vertical-align: top;\n",
              "    }\n",
              "\n",
              "    .dataframe thead th {\n",
              "        text-align: right;\n",
              "    }\n",
              "</style>\n",
              "<table border=\"1\" class=\"dataframe\">\n",
              "  <thead>\n",
              "    <tr style=\"text-align: right;\">\n",
              "      <th></th>\n",
              "      <th>Unnamed: 0</th>\n",
              "      <th>0</th>\n",
              "      <th>text</th>\n",
              "      <th>polarity</th>\n",
              "      <th>subjectivity</th>\n",
              "      <th>sentiment</th>\n",
              "      <th>neg</th>\n",
              "      <th>neu</th>\n",
              "      <th>pos</th>\n",
              "      <th>compound</th>\n",
              "    </tr>\n",
              "  </thead>\n",
              "  <tbody>\n",
              "    <tr>\n",
              "      <th>0</th>\n",
              "      <td>3702</td>\n",
              "      <td>@Anna35876145 True Olympic Champions!</td>\n",
              "      <td>true olympic champions</td>\n",
              "      <td>0.35</td>\n",
              "      <td>0.65</td>\n",
              "      <td>positive</td>\n",
              "      <td>0.000</td>\n",
              "      <td>0.139</td>\n",
              "      <td>0.861</td>\n",
              "      <td>0.7351</td>\n",
              "    </tr>\n",
              "    <tr>\n",
              "      <th>1</th>\n",
              "      <td>2818</td>\n",
              "      <td>@CSLewisDaily Sorry, i am not a Archer to aim ...</td>\n",
              "      <td>sorry  i am not a archer to aim at    pls ca...</td>\n",
              "      <td>-0.50</td>\n",
              "      <td>1.00</td>\n",
              "      <td>neutral</td>\n",
              "      <td>0.096</td>\n",
              "      <td>0.809</td>\n",
              "      <td>0.096</td>\n",
              "      <td>0.0000</td>\n",
              "    </tr>\n",
              "    <tr>\n",
              "      <th>2</th>\n",
              "      <td>844</td>\n",
              "      <td>@Girl_Lafleur He’s our rat! 🇨🇦🇨🇦🇨🇦 would’ve wo...</td>\n",
              "      <td>lafleur he s our rat         would ve won ol...</td>\n",
              "      <td>0.00</td>\n",
              "      <td>0.00</td>\n",
              "      <td>positive</td>\n",
              "      <td>0.000</td>\n",
              "      <td>0.730</td>\n",
              "      <td>0.270</td>\n",
              "      <td>0.5719</td>\n",
              "    </tr>\n",
              "    <tr>\n",
              "      <th>3</th>\n",
              "      <td>1844</td>\n",
              "      <td>getting ready for the hood olympics like  http...</td>\n",
              "      <td>getting ready for the hood olympics like</td>\n",
              "      <td>0.20</td>\n",
              "      <td>0.50</td>\n",
              "      <td>positive</td>\n",
              "      <td>0.000</td>\n",
              "      <td>0.500</td>\n",
              "      <td>0.500</td>\n",
              "      <td>0.6124</td>\n",
              "    </tr>\n",
              "    <tr>\n",
              "      <th>4</th>\n",
              "      <td>4190</td>\n",
              "      <td>Figure Skating Body Details Proposal to Hike A...</td>\n",
              "      <td>figure skating body details proposal to hike a...</td>\n",
              "      <td>0.00</td>\n",
              "      <td>0.00</td>\n",
              "      <td>neutral</td>\n",
              "      <td>0.000</td>\n",
              "      <td>1.000</td>\n",
              "      <td>0.000</td>\n",
              "      <td>0.0000</td>\n",
              "    </tr>\n",
              "  </tbody>\n",
              "</table>\n",
              "</div>\n",
              "      <button class=\"colab-df-convert\" onclick=\"convertToInteractive('df-352a34a1-4de1-4dbe-8150-0c74bc1e1e0b')\"\n",
              "              title=\"Convert this dataframe to an interactive table.\"\n",
              "              style=\"display:none;\">\n",
              "        \n",
              "  <svg xmlns=\"http://www.w3.org/2000/svg\" height=\"24px\"viewBox=\"0 0 24 24\"\n",
              "       width=\"24px\">\n",
              "    <path d=\"M0 0h24v24H0V0z\" fill=\"none\"/>\n",
              "    <path d=\"M18.56 5.44l.94 2.06.94-2.06 2.06-.94-2.06-.94-.94-2.06-.94 2.06-2.06.94zm-11 1L8.5 8.5l.94-2.06 2.06-.94-2.06-.94L8.5 2.5l-.94 2.06-2.06.94zm10 10l.94 2.06.94-2.06 2.06-.94-2.06-.94-.94-2.06-.94 2.06-2.06.94z\"/><path d=\"M17.41 7.96l-1.37-1.37c-.4-.4-.92-.59-1.43-.59-.52 0-1.04.2-1.43.59L10.3 9.45l-7.72 7.72c-.78.78-.78 2.05 0 2.83L4 21.41c.39.39.9.59 1.41.59.51 0 1.02-.2 1.41-.59l7.78-7.78 2.81-2.81c.8-.78.8-2.07 0-2.86zM5.41 20L4 18.59l7.72-7.72 1.47 1.35L5.41 20z\"/>\n",
              "  </svg>\n",
              "      </button>\n",
              "      \n",
              "  <style>\n",
              "    .colab-df-container {\n",
              "      display:flex;\n",
              "      flex-wrap:wrap;\n",
              "      gap: 12px;\n",
              "    }\n",
              "\n",
              "    .colab-df-convert {\n",
              "      background-color: #E8F0FE;\n",
              "      border: none;\n",
              "      border-radius: 50%;\n",
              "      cursor: pointer;\n",
              "      display: none;\n",
              "      fill: #1967D2;\n",
              "      height: 32px;\n",
              "      padding: 0 0 0 0;\n",
              "      width: 32px;\n",
              "    }\n",
              "\n",
              "    .colab-df-convert:hover {\n",
              "      background-color: #E2EBFA;\n",
              "      box-shadow: 0px 1px 2px rgba(60, 64, 67, 0.3), 0px 1px 3px 1px rgba(60, 64, 67, 0.15);\n",
              "      fill: #174EA6;\n",
              "    }\n",
              "\n",
              "    [theme=dark] .colab-df-convert {\n",
              "      background-color: #3B4455;\n",
              "      fill: #D2E3FC;\n",
              "    }\n",
              "\n",
              "    [theme=dark] .colab-df-convert:hover {\n",
              "      background-color: #434B5C;\n",
              "      box-shadow: 0px 1px 3px 1px rgba(0, 0, 0, 0.15);\n",
              "      filter: drop-shadow(0px 1px 2px rgba(0, 0, 0, 0.3));\n",
              "      fill: #FFFFFF;\n",
              "    }\n",
              "  </style>\n",
              "\n",
              "      <script>\n",
              "        const buttonEl =\n",
              "          document.querySelector('#df-352a34a1-4de1-4dbe-8150-0c74bc1e1e0b button.colab-df-convert');\n",
              "        buttonEl.style.display =\n",
              "          google.colab.kernel.accessAllowed ? 'block' : 'none';\n",
              "\n",
              "        async function convertToInteractive(key) {\n",
              "          const element = document.querySelector('#df-352a34a1-4de1-4dbe-8150-0c74bc1e1e0b');\n",
              "          const dataTable =\n",
              "            await google.colab.kernel.invokeFunction('convertToInteractive',\n",
              "                                                     [key], {});\n",
              "          if (!dataTable) return;\n",
              "\n",
              "          const docLinkHtml = 'Like what you see? Visit the ' +\n",
              "            '<a target=\"_blank\" href=https://colab.research.google.com/notebooks/data_table.ipynb>data table notebook</a>'\n",
              "            + ' to learn more about interactive tables.';\n",
              "          element.innerHTML = '';\n",
              "          dataTable['output_type'] = 'display_data';\n",
              "          await google.colab.output.renderOutput(dataTable, element);\n",
              "          const docLink = document.createElement('div');\n",
              "          docLink.innerHTML = docLinkHtml;\n",
              "          element.appendChild(docLink);\n",
              "        }\n",
              "      </script>\n",
              "    </div>\n",
              "  </div>\n",
              "  "
            ]
          },
          "metadata": {},
          "execution_count": 4
        }
      ],
      "source": [
        "url = 'https://raw.githubusercontent.com/kopeomojola/Tokyo2020/main/datas.csv'\n",
        "data = pd.read_csv(url)\n",
        "data = data.sample(frac=1).reset_index(drop=True)\n",
        "print(data.shape)\n",
        "data.head()"
      ]
    },
    {
      "cell_type": "markdown",
      "metadata": {
        "id": "oQzPiZf_J--5"
      },
      "source": [
        ""
      ]
    },
    {
      "cell_type": "markdown",
      "metadata": {
        "id": "yZqZZ01G-GnM"
      },
      "source": [
        "Removing all columns except the sentiment and text column."
      ]
    },
    {
      "cell_type": "code",
      "execution_count": 5,
      "metadata": {
        "id": "4l8hV2zx-GnM",
        "colab": {
          "base_uri": "https://localhost:8080/",
          "height": 206
        },
        "outputId": "b3b87d7c-f831-4045-cc17-ec3411d9c12e"
      },
      "outputs": [
        {
          "output_type": "execute_result",
          "data": {
            "text/plain": [
              "  sentiment                                               text\n",
              "0  positive                            true olympic champions \n",
              "1   neutral    sorry  i am not a archer to aim at    pls ca...\n",
              "2  positive    lafleur he s our rat         would ve won ol...\n",
              "3  positive        getting ready for the hood olympics like   \n",
              "4   neutral  figure skating body details proposal to hike a..."
            ],
            "text/html": [
              "\n",
              "  <div id=\"df-7f56bae2-550b-42cf-adb2-b7acbc63889e\">\n",
              "    <div class=\"colab-df-container\">\n",
              "      <div>\n",
              "<style scoped>\n",
              "    .dataframe tbody tr th:only-of-type {\n",
              "        vertical-align: middle;\n",
              "    }\n",
              "\n",
              "    .dataframe tbody tr th {\n",
              "        vertical-align: top;\n",
              "    }\n",
              "\n",
              "    .dataframe thead th {\n",
              "        text-align: right;\n",
              "    }\n",
              "</style>\n",
              "<table border=\"1\" class=\"dataframe\">\n",
              "  <thead>\n",
              "    <tr style=\"text-align: right;\">\n",
              "      <th></th>\n",
              "      <th>sentiment</th>\n",
              "      <th>text</th>\n",
              "    </tr>\n",
              "  </thead>\n",
              "  <tbody>\n",
              "    <tr>\n",
              "      <th>0</th>\n",
              "      <td>positive</td>\n",
              "      <td>true olympic champions</td>\n",
              "    </tr>\n",
              "    <tr>\n",
              "      <th>1</th>\n",
              "      <td>neutral</td>\n",
              "      <td>sorry  i am not a archer to aim at    pls ca...</td>\n",
              "    </tr>\n",
              "    <tr>\n",
              "      <th>2</th>\n",
              "      <td>positive</td>\n",
              "      <td>lafleur he s our rat         would ve won ol...</td>\n",
              "    </tr>\n",
              "    <tr>\n",
              "      <th>3</th>\n",
              "      <td>positive</td>\n",
              "      <td>getting ready for the hood olympics like</td>\n",
              "    </tr>\n",
              "    <tr>\n",
              "      <th>4</th>\n",
              "      <td>neutral</td>\n",
              "      <td>figure skating body details proposal to hike a...</td>\n",
              "    </tr>\n",
              "  </tbody>\n",
              "</table>\n",
              "</div>\n",
              "      <button class=\"colab-df-convert\" onclick=\"convertToInteractive('df-7f56bae2-550b-42cf-adb2-b7acbc63889e')\"\n",
              "              title=\"Convert this dataframe to an interactive table.\"\n",
              "              style=\"display:none;\">\n",
              "        \n",
              "  <svg xmlns=\"http://www.w3.org/2000/svg\" height=\"24px\"viewBox=\"0 0 24 24\"\n",
              "       width=\"24px\">\n",
              "    <path d=\"M0 0h24v24H0V0z\" fill=\"none\"/>\n",
              "    <path d=\"M18.56 5.44l.94 2.06.94-2.06 2.06-.94-2.06-.94-.94-2.06-.94 2.06-2.06.94zm-11 1L8.5 8.5l.94-2.06 2.06-.94-2.06-.94L8.5 2.5l-.94 2.06-2.06.94zm10 10l.94 2.06.94-2.06 2.06-.94-2.06-.94-.94-2.06-.94 2.06-2.06.94z\"/><path d=\"M17.41 7.96l-1.37-1.37c-.4-.4-.92-.59-1.43-.59-.52 0-1.04.2-1.43.59L10.3 9.45l-7.72 7.72c-.78.78-.78 2.05 0 2.83L4 21.41c.39.39.9.59 1.41.59.51 0 1.02-.2 1.41-.59l7.78-7.78 2.81-2.81c.8-.78.8-2.07 0-2.86zM5.41 20L4 18.59l7.72-7.72 1.47 1.35L5.41 20z\"/>\n",
              "  </svg>\n",
              "      </button>\n",
              "      \n",
              "  <style>\n",
              "    .colab-df-container {\n",
              "      display:flex;\n",
              "      flex-wrap:wrap;\n",
              "      gap: 12px;\n",
              "    }\n",
              "\n",
              "    .colab-df-convert {\n",
              "      background-color: #E8F0FE;\n",
              "      border: none;\n",
              "      border-radius: 50%;\n",
              "      cursor: pointer;\n",
              "      display: none;\n",
              "      fill: #1967D2;\n",
              "      height: 32px;\n",
              "      padding: 0 0 0 0;\n",
              "      width: 32px;\n",
              "    }\n",
              "\n",
              "    .colab-df-convert:hover {\n",
              "      background-color: #E2EBFA;\n",
              "      box-shadow: 0px 1px 2px rgba(60, 64, 67, 0.3), 0px 1px 3px 1px rgba(60, 64, 67, 0.15);\n",
              "      fill: #174EA6;\n",
              "    }\n",
              "\n",
              "    [theme=dark] .colab-df-convert {\n",
              "      background-color: #3B4455;\n",
              "      fill: #D2E3FC;\n",
              "    }\n",
              "\n",
              "    [theme=dark] .colab-df-convert:hover {\n",
              "      background-color: #434B5C;\n",
              "      box-shadow: 0px 1px 3px 1px rgba(0, 0, 0, 0.15);\n",
              "      filter: drop-shadow(0px 1px 2px rgba(0, 0, 0, 0.3));\n",
              "      fill: #FFFFFF;\n",
              "    }\n",
              "  </style>\n",
              "\n",
              "      <script>\n",
              "        const buttonEl =\n",
              "          document.querySelector('#df-7f56bae2-550b-42cf-adb2-b7acbc63889e button.colab-df-convert');\n",
              "        buttonEl.style.display =\n",
              "          google.colab.kernel.accessAllowed ? 'block' : 'none';\n",
              "\n",
              "        async function convertToInteractive(key) {\n",
              "          const element = document.querySelector('#df-7f56bae2-550b-42cf-adb2-b7acbc63889e');\n",
              "          const dataTable =\n",
              "            await google.colab.kernel.invokeFunction('convertToInteractive',\n",
              "                                                     [key], {});\n",
              "          if (!dataTable) return;\n",
              "\n",
              "          const docLinkHtml = 'Like what you see? Visit the ' +\n",
              "            '<a target=\"_blank\" href=https://colab.research.google.com/notebooks/data_table.ipynb>data table notebook</a>'\n",
              "            + ' to learn more about interactive tables.';\n",
              "          element.innerHTML = '';\n",
              "          dataTable['output_type'] = 'display_data';\n",
              "          await google.colab.output.renderOutput(dataTable, element);\n",
              "          const docLink = document.createElement('div');\n",
              "          docLink.innerHTML = docLinkHtml;\n",
              "          element.appendChild(docLink);\n",
              "        }\n",
              "      </script>\n",
              "    </div>\n",
              "  </div>\n",
              "  "
            ]
          },
          "metadata": {},
          "execution_count": 5
        }
      ],
      "source": [
        "data = data[['sentiment', 'text']]\n",
        "data.head()"
      ]
    },
    {
      "cell_type": "markdown",
      "metadata": {
        "id": "IvukQLcj-GnN"
      },
      "source": [
        "### Data exploration"
      ]
    },
    {
      "cell_type": "code",
      "execution_count": 6,
      "metadata": {
        "id": "aEdAgetE-GnN",
        "colab": {
          "base_uri": "https://localhost:8080/",
          "height": 317
        },
        "outputId": "5d049839-a814-4d8b-85e3-5ba8043ba8cb"
      },
      "outputs": [
        {
          "output_type": "execute_result",
          "data": {
            "text/plain": [
              "<matplotlib.axes._subplots.AxesSubplot at 0x7f1fe797f3d0>"
            ]
          },
          "metadata": {},
          "execution_count": 6
        },
        {
          "output_type": "display_data",
          "data": {
            "text/plain": [
              "<Figure size 432x288 with 1 Axes>"
            ],
            "image/png": "[encoded data removed]"
          },
          "metadata": {
            "needs_background": "light"
          }
        }
      ],
      "source": [
        "data['sentiment'].value_counts().sort_index().plot.bar()"
      ]
    },
    {
      "cell_type": "code",
      "execution_count": 7,
      "metadata": {
        "id": "i_UX5Qn0-GnO",
        "colab": {
          "base_uri": "https://localhost:8080/",
          "height": 283
        },
        "outputId": "b110038f-7c08-4937-acd3-9d807a1f0c4d"
      },
      "outputs": [
        {
          "output_type": "execute_result",
          "data": {
            "text/plain": [
              "<matplotlib.axes._subplots.AxesSubplot at 0x7f1fe78d1e50>"
            ]
          },
          "metadata": {},
          "execution_count": 7
        },
        {
          "output_type": "display_data",
          "data": {
            "text/plain": [
              "<Figure size 432x288 with 1 Axes>"
            ],
            "image/png": "[encoded data removed]"
          },
          "metadata": {
            "needs_background": "light"
          }
        }
      ],
      "source": [
        "data['text'].str.len().plot.hist()"
      ]
    },
    {
      "cell_type": "markdown",
      "metadata": {
        "id": "WX3Rexb5-GnQ"
      },
      "source": [
        "### Preprocessing"
      ]
    },
    {
      "cell_type": "code",
      "execution_count": 8,
      "metadata": {
        "id": "Qufu8vik-GnR",
        "colab": {
          "base_uri": "https://localhost:8080/",
          "height": 206
        },
        "outputId": "85c666ad-53e9-4edd-a0f6-64a312ffa7b1"
      },
      "outputs": [
        {
          "output_type": "execute_result",
          "data": {
            "text/plain": [
              "  sentiment                                               text\n",
              "0  positive                            true olympic champions \n",
              "1   neutral    sorry  i am not a archer to aim at    pls ca...\n",
              "2  positive    lafleur he s our rat         would ve won ol...\n",
              "3  positive        getting ready for the hood olympics like   \n",
              "4   neutral  figure skating body details proposal to hike a..."
            ],
            "text/html": [
              "\n",
              "  <div id=\"df-b2272646-1b12-406a-9584-86f403e557d7\">\n",
              "    <div class=\"colab-df-container\">\n",
              "      <div>\n",
              "<style scoped>\n",
              "    .dataframe tbody tr th:only-of-type {\n",
              "        vertical-align: middle;\n",
              "    }\n",
              "\n",
              "    .dataframe tbody tr th {\n",
              "        vertical-align: top;\n",
              "    }\n",
              "\n",
              "    .dataframe thead th {\n",
              "        text-align: right;\n",
              "    }\n",
              "</style>\n",
              "<table border=\"1\" class=\"dataframe\">\n",
              "  <thead>\n",
              "    <tr style=\"text-align: right;\">\n",
              "      <th></th>\n",
              "      <th>sentiment</th>\n",
              "      <th>text</th>\n",
              "    </tr>\n",
              "  </thead>\n",
              "  <tbody>\n",
              "    <tr>\n",
              "      <th>0</th>\n",
              "      <td>positive</td>\n",
              "      <td>true olympic champions</td>\n",
              "    </tr>\n",
              "    <tr>\n",
              "      <th>1</th>\n",
              "      <td>neutral</td>\n",
              "      <td>sorry  i am not a archer to aim at    pls ca...</td>\n",
              "    </tr>\n",
              "    <tr>\n",
              "      <th>2</th>\n",
              "      <td>positive</td>\n",
              "      <td>lafleur he s our rat         would ve won ol...</td>\n",
              "    </tr>\n",
              "    <tr>\n",
              "      <th>3</th>\n",
              "      <td>positive</td>\n",
              "      <td>getting ready for the hood olympics like</td>\n",
              "    </tr>\n",
              "    <tr>\n",
              "      <th>4</th>\n",
              "      <td>neutral</td>\n",
              "      <td>figure skating body details proposal to hike a...</td>\n",
              "    </tr>\n",
              "  </tbody>\n",
              "</table>\n",
              "</div>\n",
              "      <button class=\"colab-df-convert\" onclick=\"convertToInteractive('df-b2272646-1b12-406a-9584-86f403e557d7')\"\n",
              "              title=\"Convert this dataframe to an interactive table.\"\n",
              "              style=\"display:none;\">\n",
              "        \n",
              "  <svg xmlns=\"http://www.w3.org/2000/svg\" height=\"24px\"viewBox=\"0 0 24 24\"\n",
              "       width=\"24px\">\n",
              "    <path d=\"M0 0h24v24H0V0z\" fill=\"none\"/>\n",
              "    <path d=\"M18.56 5.44l.94 2.06.94-2.06 2.06-.94-2.06-.94-.94-2.06-.94 2.06-2.06.94zm-11 1L8.5 8.5l.94-2.06 2.06-.94-2.06-.94L8.5 2.5l-.94 2.06-2.06.94zm10 10l.94 2.06.94-2.06 2.06-.94-2.06-.94-.94-2.06-.94 2.06-2.06.94z\"/><path d=\"M17.41 7.96l-1.37-1.37c-.4-.4-.92-.59-1.43-.59-.52 0-1.04.2-1.43.59L10.3 9.45l-7.72 7.72c-.78.78-.78 2.05 0 2.83L4 21.41c.39.39.9.59 1.41.59.51 0 1.02-.2 1.41-.59l7.78-7.78 2.81-2.81c.8-.78.8-2.07 0-2.86zM5.41 20L4 18.59l7.72-7.72 1.47 1.35L5.41 20z\"/>\n",
              "  </svg>\n",
              "      </button>\n",
              "      \n",
              "  <style>\n",
              "    .colab-df-container {\n",
              "      display:flex;\n",
              "      flex-wrap:wrap;\n",
              "      gap: 12px;\n",
              "    }\n",
              "\n",
              "    .colab-df-convert {\n",
              "      background-color: #E8F0FE;\n",
              "      border: none;\n",
              "      border-radius: 50%;\n",
              "      cursor: pointer;\n",
              "      display: none;\n",
              "      fill: #1967D2;\n",
              "      height: 32px;\n",
              "      padding: 0 0 0 0;\n",
              "      width: 32px;\n",
              "    }\n",
              "\n",
              "    .colab-df-convert:hover {\n",
              "      background-color: #E2EBFA;\n",
              "      box-shadow: 0px 1px 2px rgba(60, 64, 67, 0.3), 0px 1px 3px 1px rgba(60, 64, 67, 0.15);\n",
              "      fill: #174EA6;\n",
              "    }\n",
              "\n",
              "    [theme=dark] .colab-df-convert {\n",
              "      background-color: #3B4455;\n",
              "      fill: #D2E3FC;\n",
              "    }\n",
              "\n",
              "    [theme=dark] .colab-df-convert:hover {\n",
              "      background-color: #434B5C;\n",
              "      box-shadow: 0px 1px 3px 1px rgba(0, 0, 0, 0.15);\n",
              "      filter: drop-shadow(0px 1px 2px rgba(0, 0, 0, 0.3));\n",
              "      fill: #FFFFFF;\n",
              "    }\n",
              "  </style>\n",
              "\n",
              "      <script>\n",
              "        const buttonEl =\n",
              "          document.querySelector('#df-b2272646-1b12-406a-9584-86f403e557d7 button.colab-df-convert');\n",
              "        buttonEl.style.display =\n",
              "          google.colab.kernel.accessAllowed ? 'block' : 'none';\n",
              "\n",
              "        async function convertToInteractive(key) {\n",
              "          const element = document.querySelector('#df-b2272646-1b12-406a-9584-86f403e557d7');\n",
              "          const dataTable =\n",
              "            await google.colab.kernel.invokeFunction('convertToInteractive',\n",
              "                                                     [key], {});\n",
              "          if (!dataTable) return;\n",
              "\n",
              "          const docLinkHtml = 'Like what you see? Visit the ' +\n",
              "            '<a target=\"_blank\" href=https://colab.research.google.com/notebooks/data_table.ipynb>data table notebook</a>'\n",
              "            + ' to learn more about interactive tables.';\n",
              "          element.innerHTML = '';\n",
              "          dataTable['output_type'] = 'display_data';\n",
              "          await google.colab.output.renderOutput(dataTable, element);\n",
              "          const docLink = document.createElement('div');\n",
              "          docLink.innerHTML = docLinkHtml;\n",
              "          element.appendChild(docLink);\n",
              "        }\n",
              "      </script>\n",
              "    </div>\n",
              "  </div>\n",
              "  "
            ]
          },
          "metadata": {},
          "execution_count": 8
        }
      ],
      "source": [
        "data['text'] = data['text'].str.replace('@', '')\n",
        "data.head()"
      ]
    },
    {
      "cell_type": "code",
      "execution_count": 9,
      "metadata": {
        "id": "0_SSp2nS-GnT",
        "colab": {
          "base_uri": "https://localhost:8080/"
        },
        "outputId": "d51e17ef-0f63-474c-fa41-67e033a5ed88"
      },
      "outputs": [
        {
          "output_type": "execute_result",
          "data": {
            "text/plain": [
              "0                              true olympic champions \n",
              "1      sorry  i am not a archer to aim at    pls ca...\n",
              "2      lafleur he s our rat         would ve won ol...\n",
              "3          getting ready for the hood olympics like   \n",
              "4    figure skating body details proposal to hike a...\n",
              "Name: text, dtype: object"
            ]
          },
          "metadata": {},
          "execution_count": 9
        }
      ],
      "source": [
        "data['text'].apply(lambda x: x.lower()) #transform text to lowercase\n",
        "data['text'] = data['text'].apply(lambda x: re.sub('[^a-zA-z0-9\\s]', '', x))\n",
        "data['text'].head()"
      ]
    },
    {
      "cell_type": "code",
      "execution_count": 10,
      "metadata": {
        "id": "f0U4Lo1H-GnU",
        "colab": {
          "base_uri": "https://localhost:8080/"
        },
        "outputId": "d5b0235d-72d3-4ae4-ca6e-a02d81a20d12"
      },
      "outputs": [
        {
          "output_type": "execute_result",
          "data": {
            "text/plain": [
              "array([[   0,    0,    0,    0,    0,    0,    0,    0,    0,    0,    0,\n",
              "           0,    0,    0,    0,    0,    0,    0,    0,    0,    0,    0,\n",
              "           0,    0,    0,    0,    0,    0,    0,    0,    0,    0,    0,\n",
              "           0,    0,    0,    0,    0,    0,    0,    0,    0,    0,    0,\n",
              "           0,    0,    0,    0,    0,    0,    0,    0,    0,    0,    0,\n",
              "           0,    0,    0,    0,    0,    0,    0,    0,    0,    0,    0,\n",
              "           0,    0,    0,    0,    0,    0,    0,    0,    0,    0,    0,\n",
              "         488,    2,  441],\n",
              "       [   0,    0,    0,    0,    0,    0,    0,    0,    0,    0,    0,\n",
              "           0,    0,    0,    0,    0,    0,    0,    0,    0,    0,    0,\n",
              "           0,    0,    0,    0,    0,    0,    0,    0,    0,    0,    0,\n",
              "           0,    0,    0,    0,    0,    0,    0,    0,    0,    0,    0,\n",
              "           0,    0,    0,    0,    0,    0,    0,    0,    0,    0,    0,\n",
              "           0,    0,    0,    0,    0,    0,    0,    0,    0,    0,  698,\n",
              "           9,  216,   30,    7, 3825,    3, 2692,   14, 2066,  458,   19,\n",
              "           4,   27,   80],\n",
              "       [   0,    0,    0,    0,    0,    0,    0,    0,    0,    0,    0,\n",
              "           0,    0,    0,    0,    0,    0,    0,    0,    0,    0,    0,\n",
              "           0,    0,    0,    0,    0,    0,    0,    0,    0,    0,    0,\n",
              "           0,    0,    0,    0,    0,    0,    0,    0,    0,    0,    0,\n",
              "           0,    0,    0,    0,    0,    0,    0,    0,    0,    0,    0,\n",
              "           0,    0,    0,    0,    0,    0,    0,    0,    0,    0,    0,\n",
              "           0,    0,    0,   25,   10,   90, 3826,   77,  160,   85,    2,\n",
              "          27,    6,  205],\n",
              "       [   0,    0,    0,    0,    0,    0,    0,    0,    0,    0,    0,\n",
              "           0,    0,    0,    0,    0,    0,    0,    0,    0,    0,    0,\n",
              "           0,    0,    0,    0,    0,    0,    0,    0,    0,    0,    0,\n",
              "           0,    0,    0,    0,    0,    0,    0,    0,    0,    0,    0,\n",
              "           0,    0,    0,    0,    0,    0,    0,    0,    0,    0,    0,\n",
              "           0,    0,    0,    0,    0,    0,    0,    0,    0,    0,    0,\n",
              "           0,    0,    0,    0,    0,    0,    0,  260,  529,   11,    1,\n",
              "        2235,    4,   35],\n",
              "       [   0,    0,    0,    0,    0,    0,    0,    0,    0,    0,    0,\n",
              "           0,    0,    0,    0,    0,    0,    0,    0,    0,    0,    0,\n",
              "           0,    0,    0,    0,    0,    0,    0,    0,    0,    0,    0,\n",
              "           0,    0,    0,    0,    0,    0,    0,    0,    0,    0,    0,\n",
              "           0,    0,    0,    0,    0,    0,    0,    0,    0,    0,    0,\n",
              "           0,    0,    0,    0,    0,    0,    0,    0,    0,    0,  283,\n",
              "         286,  423, 1059, 1085,    3, 1692,  400,  982,    3,  519,   11,\n",
              "        1141,   94,    4]], dtype=int32)"
            ]
          },
          "metadata": {},
          "execution_count": 10
        }
      ],
      "source": [
        "tokenizer = Tokenizer(num_words=5000, split=\" \")\n",
        "tokenizer.fit_on_texts(data['text'].values)\n",
        "\n",
        "X = tokenizer.texts_to_sequences(data['text'].values)\n",
        "X = pad_sequences(X) # padding our text vector so they all have the same length\n",
        "X[:5]"
      ]
    },
    {
      "cell_type": "markdown",
      "metadata": {
        "id": "PUXBdzPX-GnV"
      },
      "source": [
        "### Creating model"
      ]
    },
    {
      "cell_type": "code",
      "execution_count": 11,
      "metadata": {
        "id": "aTkALdgt-GnW",
        "colab": {
          "base_uri": "https://localhost:8080/"
        },
        "outputId": "4d3c7118-99d1-4da1-868d-4a0202a6246c"
      },
      "outputs": [
        {
          "output_type": "stream",
          "name": "stdout",
          "text": [
            "WARNING:tensorflow:Layer lstm will not use cuDNN kernels since it doesn't meet the criteria. It will use a generic GPU kernel as fallback when running on GPU.\n",
            "WARNING:tensorflow:Layer lstm_1 will not use cuDNN kernels since it doesn't meet the criteria. It will use a generic GPU kernel as fallback when running on GPU.\n"
          ]
        }
      ],
      "source": [
        "model = Sequential()\n",
        "model.add(Embedding(5000, 256, input_length=X.shape[1]))\n",
        "model.add(Dropout(0.3))\n",
        "model.add(LSTM(256, return_sequences=True, dropout=0.3, recurrent_dropout=0.2))\n",
        "model.add(LSTM(256, dropout=0.3, recurrent_dropout=0.2))\n",
        "model.add(Dense(3, activation='softmax'))"
      ]
    },
    {
      "cell_type": "code",
      "execution_count": 12,
      "metadata": {
        "id": "dSG3HI9A-GnX",
        "colab": {
          "base_uri": "https://localhost:8080/"
        },
        "outputId": "bd71d296-f52b-43a6-8366-64ed27e9fc30"
      },
      "outputs": [
        {
          "output_type": "stream",
          "name": "stdout",
          "text": [
            "Model: \"sequential\"\n",
            "_________________________________________________________________\n",
            " Layer (type)                Output Shape              Param #   \n",
            "=================================================================\n",
            " embedding (Embedding)       (None, 80, 256)           1280000   \n",
            "                                                                 \n",
            " dropout (Dropout)           (None, 80, 256)           0         \n",
            "                                                                 \n",
            " lstm (LSTM)                 (None, 80, 256)           525312    \n",
            "                                                                 \n",
            " lstm_1 (LSTM)               (None, 256)               525312    \n",
            "                                                                 \n",
            " dense (Dense)               (None, 3)                 771       \n",
            "                                                                 \n",
            "=================================================================\n",
            "Total params: 2,331,395\n",
            "Trainable params: 2,331,395\n",
            "Non-trainable params: 0\n",
            "_________________________________________________________________\n"
          ]
        }
      ],
      "source": [
        "model.compile(loss='categorical_crossentropy', optimizer='adam', metrics=['accuracy'])\n",
        "model.summary()"
      ]
    },
    {
      "cell_type": "code",
      "execution_count": 13,
      "metadata": {
        "id": "hZ0EXQSj-GnY",
        "colab": {
          "base_uri": "https://localhost:8080/"
        },
        "outputId": "fbcc4722-ec13-4a27-e771-cbbe8da67a19"
      },
      "outputs": [
        {
          "output_type": "stream",
          "name": "stdout",
          "text": [
            "positive [0 0 1]\n",
            "neutral [0 1 0]\n",
            "positive [0 0 1]\n",
            "positive [0 0 1]\n",
            "neutral [0 1 0]\n"
          ]
        },
        {
          "output_type": "execute_result",
          "data": {
            "text/plain": [
              "[None, None, None, None, None]"
            ]
          },
          "metadata": {},
          "execution_count": 13
        }
      ],
      "source": [
        "y = pd.get_dummies(data['sentiment']).values\n",
        "[print(data['sentiment'][i], y[i]) for i in range(0,5)]"
      ]
    },
    {
      "cell_type": "markdown",
      "metadata": {
        "id": "-221uS9m-GnZ"
      },
      "source": [
        "### Training model"
      ]
    },
    {
      "cell_type": "code",
      "execution_count": 14,
      "metadata": {
        "id": "fVs_9HP9Zhyq",
        "colab": {
          "base_uri": "https://localhost:8080/"
        },
        "outputId": "a7f46bd8-c714-4385-a488-32b2e3d04102"
      },
      "outputs": [
        {
          "output_type": "stream",
          "name": "stdout",
          "text": [
            "Requirement already satisfied: imblearn in /usr/local/lib/python3.7/dist-packages (0.0)\n",
            "Requirement already satisfied: imbalanced-learn in /usr/local/lib/python3.7/dist-packages (from imblearn) (0.8.1)\n",
            "Requirement already satisfied: joblib>=0.11 in /usr/local/lib/python3.7/dist-packages (from imbalanced-learn->imblearn) (1.1.0)\n",
            "Requirement already satisfied: scikit-learn>=0.24 in /usr/local/lib/python3.7/dist-packages (from imbalanced-learn->imblearn) (1.0.2)\n",
            "Requirement already satisfied: scipy>=0.19.1 in /usr/local/lib/python3.7/dist-packages (from imbalanced-learn->imblearn) (1.4.1)\n",
            "Requirement already satisfied: numpy>=1.13.3 in /usr/local/lib/python3.7/dist-packages (from imbalanced-learn->imblearn) (1.21.6)\n",
            "Requirement already satisfied: threadpoolctl>=2.0.0 in /usr/local/lib/python3.7/dist-packages (from scikit-learn>=0.24->imbalanced-learn->imblearn) (3.1.0)\n"
          ]
        }
      ],
      "source": [
        "pip install imblearn"
      ]
    },
    {
      "cell_type": "code",
      "execution_count": 15,
      "metadata": {
        "id": "_Kpi5vSeZ2FT"
      },
      "outputs": [],
      "source": [
        "from imblearn.over_sampling import RandomOverSampler"
      ]
    },
    {
      "cell_type": "code",
      "execution_count": 16,
      "metadata": {
        "id": "DD_3yDUxZ_sX"
      },
      "outputs": [],
      "source": [
        "over_sampler = RandomOverSampler(sampling_strategy=\"minority\")"
      ]
    },
    {
      "cell_type": "code",
      "execution_count": 17,
      "metadata": {
        "id": "M2woMkYaaVhA"
      },
      "outputs": [],
      "source": [
        "X_oversampled, y_oversampled = over_sampler.fit_resample(X, y)"
      ]
    },
    {
      "cell_type": "code",
      "execution_count": 18,
      "metadata": {
        "id": "ivfQ-EkR-GnZ"
      },
      "outputs": [],
      "source": [
        "X_train, X_test, y_train, y_test = train_test_split(X_oversampled, y_oversampled, test_size=0.2, random_state=42)"
      ]
    },
    {
      "cell_type": "code",
      "execution_count": 19,
      "metadata": {
        "colab": {
          "base_uri": "https://localhost:8080/"
        },
        "id": "lLUg5Lbt-GnZ",
        "outputId": "af72cc18-0e52-4452-f4c2-47bc9cee3ad5"
      },
      "outputs": [
        {
          "output_type": "stream",
          "name": "stdout",
          "text": [
            "Epoch 1/70\n",
            "161/161 [==============================] - 216s 1s/step - loss: 0.7919 - accuracy: 0.6174 - val_loss: 0.5560 - val_accuracy: 0.7748\n",
            "Epoch 2/70\n",
            "161/161 [==============================] - 184s 1s/step - loss: 0.3775 - accuracy: 0.8637 - val_loss: 0.4080 - val_accuracy: 0.8496\n",
            "Epoch 3/70\n",
            "161/161 [==============================] - 184s 1s/step - loss: 0.2209 - accuracy: 0.9283 - val_loss: 0.4035 - val_accuracy: 0.8652\n",
            "Epoch 4/70\n",
            "161/161 [==============================] - 183s 1s/step - loss: 0.1515 - accuracy: 0.9545 - val_loss: 0.4075 - val_accuracy: 0.8746\n",
            "Epoch 5/70\n",
            "161/161 [==============================] - 185s 1s/step - loss: 0.1193 - accuracy: 0.9621 - val_loss: 0.4107 - val_accuracy: 0.8820\n",
            "Epoch 6/70\n",
            "161/161 [==============================] - 183s 1s/step - loss: 0.0944 - accuracy: 0.9715 - val_loss: 0.4460 - val_accuracy: 0.8788\n",
            "Epoch 7/70\n",
            "161/161 [==============================] - 183s 1s/step - loss: 0.0713 - accuracy: 0.9800 - val_loss: 0.4954 - val_accuracy: 0.8866\n",
            "Epoch 8/70\n",
            "161/161 [==============================] - 183s 1s/step - loss: 0.0749 - accuracy: 0.9773 - val_loss: 0.5222 - val_accuracy: 0.8804\n",
            "Epoch 9/70\n",
            "161/161 [==============================] - 181s 1s/step - loss: 0.0620 - accuracy: 0.9807 - val_loss: 0.4525 - val_accuracy: 0.8855\n",
            "Epoch 10/70\n",
            "161/161 [==============================] - 179s 1s/step - loss: 0.0555 - accuracy: 0.9824 - val_loss: 0.6149 - val_accuracy: 0.8761\n",
            "Epoch 11/70\n",
            "161/161 [==============================] - 180s 1s/step - loss: 0.0509 - accuracy: 0.9843 - val_loss: 0.6316 - val_accuracy: 0.8761\n",
            "Epoch 12/70\n",
            "161/161 [==============================] - 180s 1s/step - loss: 0.0428 - accuracy: 0.9869 - val_loss: 0.6559 - val_accuracy: 0.8792\n",
            "Epoch 13/70\n",
            "161/161 [==============================] - 180s 1s/step - loss: 0.0332 - accuracy: 0.9899 - val_loss: 0.6046 - val_accuracy: 0.8839\n",
            "Epoch 14/70\n",
            "161/161 [==============================] - 181s 1s/step - loss: 0.0376 - accuracy: 0.9882 - val_loss: 0.6075 - val_accuracy: 0.8898\n",
            "Epoch 15/70\n",
            "161/161 [==============================] - 183s 1s/step - loss: 0.0354 - accuracy: 0.9898 - val_loss: 0.5751 - val_accuracy: 0.8835\n",
            "Epoch 16/70\n",
            "161/161 [==============================] - 181s 1s/step - loss: 0.0293 - accuracy: 0.9908 - val_loss: 0.6600 - val_accuracy: 0.8859\n",
            "Epoch 17/70\n",
            "161/161 [==============================] - 182s 1s/step - loss: 0.0369 - accuracy: 0.9890 - val_loss: 0.6832 - val_accuracy: 0.8738\n",
            "Epoch 18/70\n",
            "161/161 [==============================] - 183s 1s/step - loss: 0.0282 - accuracy: 0.9906 - val_loss: 0.6129 - val_accuracy: 0.8851\n",
            "Epoch 19/70\n",
            "161/161 [==============================] - 182s 1s/step - loss: 0.0262 - accuracy: 0.9918 - val_loss: 0.6526 - val_accuracy: 0.8901\n",
            "Epoch 20/70\n",
            "161/161 [==============================] - 182s 1s/step - loss: 0.0190 - accuracy: 0.9930 - val_loss: 0.6860 - val_accuracy: 0.8820\n",
            "Epoch 21/70\n",
            "161/161 [==============================] - 183s 1s/step - loss: 0.0233 - accuracy: 0.9923 - val_loss: 0.6763 - val_accuracy: 0.8792\n",
            "Epoch 22/70\n",
            "161/161 [==============================] - 181s 1s/step - loss: 0.0186 - accuracy: 0.9941 - val_loss: 0.8640 - val_accuracy: 0.8761\n",
            "Epoch 23/70\n",
            "161/161 [==============================] - 182s 1s/step - loss: 0.0170 - accuracy: 0.9938 - val_loss: 0.7004 - val_accuracy: 0.8878\n",
            "Epoch 24/70\n",
            "161/161 [==============================] - 179s 1s/step - loss: 0.0192 - accuracy: 0.9940 - val_loss: 0.7637 - val_accuracy: 0.8866\n",
            "Epoch 25/70\n",
            "161/161 [==============================] - 180s 1s/step - loss: 0.0178 - accuracy: 0.9943 - val_loss: 0.8766 - val_accuracy: 0.8730\n",
            "Epoch 26/70\n",
            "161/161 [==============================] - 180s 1s/step - loss: 0.0200 - accuracy: 0.9938 - val_loss: 0.7849 - val_accuracy: 0.8781\n",
            "Epoch 27/70\n",
            "161/161 [==============================] - 179s 1s/step - loss: 0.0164 - accuracy: 0.9954 - val_loss: 0.8212 - val_accuracy: 0.8773\n",
            "Epoch 28/70\n",
            "161/161 [==============================] - 180s 1s/step - loss: 0.0108 - accuracy: 0.9963 - val_loss: 0.8379 - val_accuracy: 0.8800\n",
            "Epoch 29/70\n",
            "161/161 [==============================] - 181s 1s/step - loss: 0.0157 - accuracy: 0.9948 - val_loss: 0.7310 - val_accuracy: 0.8894\n",
            "Epoch 30/70\n",
            "161/161 [==============================] - 181s 1s/step - loss: 0.0114 - accuracy: 0.9962 - val_loss: 0.8627 - val_accuracy: 0.8812\n",
            "Epoch 31/70\n",
            "161/161 [==============================] - 180s 1s/step - loss: 0.0158 - accuracy: 0.9956 - val_loss: 0.7926 - val_accuracy: 0.8781\n",
            "Epoch 32/70\n",
            "161/161 [==============================] - 180s 1s/step - loss: 0.0166 - accuracy: 0.9944 - val_loss: 0.8851 - val_accuracy: 0.8792\n",
            "Epoch 33/70\n",
            "161/161 [==============================] - 180s 1s/step - loss: 0.0134 - accuracy: 0.9962 - val_loss: 0.7372 - val_accuracy: 0.8839\n",
            "Epoch 34/70\n",
            "161/161 [==============================] - 180s 1s/step - loss: 0.0120 - accuracy: 0.9965 - val_loss: 0.8344 - val_accuracy: 0.8800\n",
            "Epoch 35/70\n",
            "161/161 [==============================] - 180s 1s/step - loss: 0.0121 - accuracy: 0.9958 - val_loss: 0.8378 - val_accuracy: 0.8816\n",
            "Epoch 36/70\n",
            "161/161 [==============================] - 182s 1s/step - loss: 0.0088 - accuracy: 0.9968 - val_loss: 0.8501 - val_accuracy: 0.8808\n",
            "Epoch 37/70\n",
            "161/161 [==============================] - 182s 1s/step - loss: 0.0097 - accuracy: 0.9965 - val_loss: 0.9078 - val_accuracy: 0.8750\n",
            "Epoch 38/70\n",
            "161/161 [==============================] - 181s 1s/step - loss: 0.0071 - accuracy: 0.9976 - val_loss: 0.9257 - val_accuracy: 0.8812\n",
            "Epoch 39/70\n",
            "161/161 [==============================] - 183s 1s/step - loss: 0.0059 - accuracy: 0.9981 - val_loss: 0.9421 - val_accuracy: 0.8831\n",
            "Epoch 40/70\n",
            "161/161 [==============================] - 182s 1s/step - loss: 0.0059 - accuracy: 0.9983 - val_loss: 0.9523 - val_accuracy: 0.8855\n",
            "Epoch 41/70\n",
            "161/161 [==============================] - 181s 1s/step - loss: 0.0088 - accuracy: 0.9972 - val_loss: 0.8974 - val_accuracy: 0.8831\n",
            "Epoch 42/70\n",
            "161/161 [==============================] - 179s 1s/step - loss: 0.0102 - accuracy: 0.9970 - val_loss: 0.8390 - val_accuracy: 0.8870\n",
            "Epoch 43/70\n",
            "161/161 [==============================] - 181s 1s/step - loss: 0.0096 - accuracy: 0.9970 - val_loss: 0.8735 - val_accuracy: 0.8851\n",
            "Epoch 44/70\n",
            "161/161 [==============================] - 181s 1s/step - loss: 0.0108 - accuracy: 0.9957 - val_loss: 0.9973 - val_accuracy: 0.8625\n",
            "Epoch 45/70\n",
            "161/161 [==============================] - 182s 1s/step - loss: 0.0114 - accuracy: 0.9965 - val_loss: 0.7936 - val_accuracy: 0.8898\n",
            "Epoch 46/70\n",
            "161/161 [==============================] - 182s 1s/step - loss: 0.0090 - accuracy: 0.9968 - val_loss: 0.8426 - val_accuracy: 0.8824\n",
            "Epoch 47/70\n",
            "161/161 [==============================] - 182s 1s/step - loss: 0.0082 - accuracy: 0.9971 - val_loss: 0.9274 - val_accuracy: 0.8820\n",
            "Epoch 48/70\n",
            "161/161 [==============================] - 182s 1s/step - loss: 0.0151 - accuracy: 0.9954 - val_loss: 0.8301 - val_accuracy: 0.8839\n",
            "Epoch 49/70\n",
            "161/161 [==============================] - 181s 1s/step - loss: 0.0093 - accuracy: 0.9972 - val_loss: 0.8071 - val_accuracy: 0.8831\n",
            "Epoch 50/70\n",
            "161/161 [==============================] - 181s 1s/step - loss: 0.0117 - accuracy: 0.9958 - val_loss: 0.7738 - val_accuracy: 0.8804\n",
            "Epoch 51/70\n",
            "161/161 [==============================] - 180s 1s/step - loss: 0.0076 - accuracy: 0.9968 - val_loss: 0.9582 - val_accuracy: 0.8769\n",
            "Epoch 52/70\n",
            "161/161 [==============================] - 176s 1s/step - loss: 0.0083 - accuracy: 0.9970 - val_loss: 0.8315 - val_accuracy: 0.8925\n",
            "Epoch 53/70\n",
            "161/161 [==============================] - 178s 1s/step - loss: 0.0078 - accuracy: 0.9978 - val_loss: 0.8579 - val_accuracy: 0.8979\n",
            "Epoch 54/70\n",
            "161/161 [==============================] - 176s 1s/step - loss: 0.0077 - accuracy: 0.9971 - val_loss: 0.8718 - val_accuracy: 0.8816\n",
            "Epoch 55/70\n",
            "161/161 [==============================] - 176s 1s/step - loss: 0.0073 - accuracy: 0.9975 - val_loss: 0.9110 - val_accuracy: 0.8847\n",
            "Epoch 56/70\n",
            "161/161 [==============================] - 174s 1s/step - loss: 0.0091 - accuracy: 0.9970 - val_loss: 0.9403 - val_accuracy: 0.8753\n",
            "Epoch 57/70\n",
            "161/161 [==============================] - 177s 1s/step - loss: 0.0058 - accuracy: 0.9979 - val_loss: 0.9103 - val_accuracy: 0.8757\n",
            "Epoch 58/70\n",
            "161/161 [==============================] - 177s 1s/step - loss: 0.0049 - accuracy: 0.9984 - val_loss: 0.9594 - val_accuracy: 0.8808\n",
            "Epoch 59/70\n",
            "161/161 [==============================] - 177s 1s/step - loss: 0.0057 - accuracy: 0.9979 - val_loss: 1.0845 - val_accuracy: 0.8734\n",
            "Epoch 60/70\n",
            "161/161 [==============================] - 175s 1s/step - loss: 0.0066 - accuracy: 0.9978 - val_loss: 1.0962 - val_accuracy: 0.8753\n",
            "Epoch 61/70\n",
            "161/161 [==============================] - 178s 1s/step - loss: 0.0073 - accuracy: 0.9972 - val_loss: 0.8164 - val_accuracy: 0.8898\n",
            "Epoch 62/70\n",
            "161/161 [==============================] - 177s 1s/step - loss: 0.0072 - accuracy: 0.9972 - val_loss: 0.9154 - val_accuracy: 0.8890\n",
            "Epoch 63/70\n",
            "161/161 [==============================] - 179s 1s/step - loss: 0.0067 - accuracy: 0.9974 - val_loss: 0.9245 - val_accuracy: 0.8901\n",
            "Epoch 64/70\n",
            "161/161 [==============================] - 176s 1s/step - loss: 0.0062 - accuracy: 0.9981 - val_loss: 0.8836 - val_accuracy: 0.8944\n",
            "Epoch 65/70\n",
            "161/161 [==============================] - 177s 1s/step - loss: 0.0076 - accuracy: 0.9977 - val_loss: 0.9135 - val_accuracy: 0.8944\n",
            "Epoch 66/70\n",
            "161/161 [==============================] - 177s 1s/step - loss: 0.0110 - accuracy: 0.9967 - val_loss: 0.8529 - val_accuracy: 0.8847\n",
            "Epoch 67/70\n",
            "161/161 [==============================] - 177s 1s/step - loss: 0.0074 - accuracy: 0.9976 - val_loss: 0.8200 - val_accuracy: 0.8882\n",
            "Epoch 68/70\n",
            "161/161 [==============================] - 177s 1s/step - loss: 0.0058 - accuracy: 0.9981 - val_loss: 0.8835 - val_accuracy: 0.8882\n",
            "Epoch 69/70\n",
            "161/161 [==============================] - 175s 1s/step - loss: 0.0047 - accuracy: 0.9982 - val_loss: 0.9439 - val_accuracy: 0.8866\n",
            "Epoch 70/70\n",
            "161/161 [==============================] - 175s 1s/step - loss: 0.0053 - accuracy: 0.9981 - val_loss: 0.9899 - val_accuracy: 0.8824\n"
          ]
        }
      ],
      "source": [
        "batch_size = 64\n",
        "epochs = 70\n",
        "\n",
        "history = model.fit(X_train, y_train, epochs=epochs, validation_data=(X_test,y_test), batch_size=batch_size, verbose=1)"
      ]
    },
    {
      "cell_type": "code",
      "execution_count": 20,
      "metadata": {
        "id": "2DaciEmj-Gna",
        "colab": {
          "base_uri": "https://localhost:8080/",
          "height": 573
        },
        "outputId": "2e94757c-37c3-429c-b328-1824023c7109"
      },
      "outputs": [
        {
          "output_type": "display_data",
          "data": {
            "text/plain": [
              "<Figure size 432x288 with 1 Axes>"
            ],
            "image/png": "[encoded data removed]"
          },
          "metadata": {
            "needs_background": "light"
          }
        },
        {
          "output_type": "display_data",
          "data": {
            "text/plain": [
              "<Figure size 432x288 with 1 Axes>"
            ],
            "image/png": "[encoded data removed]"
          },
          "metadata": {
            "needs_background": "light"
          }
        }
      ],
      "source": [
        "#plot accuracy and recall\n",
        "# summarize history for accuracy\n",
        "plt.plot(history.history['accuracy'])\n",
        "plt.plot(history.history['val_accuracy'])\n",
        "plt.title('model accuracy')\n",
        "plt.ylabel('accuracy')\n",
        "plt.xlabel('epoch')\n",
        "plt.legend(['train', 'val'], loc='upper left')\n",
        "plt.show()\n",
        "# summarize history for loss\n",
        "plt.plot(history.history['loss'])\n",
        "plt.plot(history.history['val_loss'])\n",
        "plt.title('model loss')\n",
        "plt.ylabel('loss')\n",
        "plt.xlabel('epoch')\n",
        "plt.legend(['train', 'val'], loc='upper left')\n",
        "plt.show()\n",
        "\n",
        "\n",
        "\n",
        "\n",
        "model.save('sentiment_analysis.h5')"
      ]
    },
    {
      "cell_type": "markdown",
      "metadata": {
        "id": "VJ0HNOCA-Gna"
      },
      "source": [
        "### Testing model"
      ]
    },
    {
      "cell_type": "code",
      "execution_count": 21,
      "metadata": {
        "id": "F2oybBFT-Gna",
        "colab": {
          "base_uri": "https://localhost:8080/"
        },
        "outputId": "bce558ed-bed3-472f-b2bb-be35a45bfa96"
      },
      "outputs": [
        {
          "output_type": "stream",
          "name": "stdout",
          "text": [
            "  true olympic champions  [2.4940773e-06 9.9999201e-01 5.5242681e-06] [0 1 0]\n",
            "  sorry  i am not a archer to aim at    pls call an olympics gold medalist [9.9999642e-01 3.0026122e-06 5.4671096e-07] [1 0 0]\n",
            "  lafleur he s our rat         would ve won olympic gold in beijing [9.9997556e-01 2.3841594e-05 6.0439720e-07] [1 0 0]\n",
            "getting ready for the hood olympics like    [9.9999857e-01 5.4696716e-07 8.5576079e-07] [1 0 0]\n",
            "figure skating body details proposal to hike age limit to 17 for 2026 winter olympics    [9.9998713e-01 4.4462154e-06 8.4083485e-06] [1 0 0]\n"
          ]
        },
        {
          "output_type": "execute_result",
          "data": {
            "text/plain": [
              "[None, None, None, None, None]"
            ]
          },
          "metadata": {},
          "execution_count": 21
        }
      ],
      "source": [
        "predictions = model.predict(X_test)\n",
        "\n",
        "[print(data['text'][i], predictions[i], y_test[i]) for i in range(0, 5)]"
      ]
    },
    {
      "cell_type": "markdown",
      "metadata": {
        "id": "tKJ4HO53dhLx"
      },
      "source": [
        ""
      ]
    },
    {
      "cell_type": "code",
      "execution_count": 22,
      "metadata": {
        "id": "x3IUFOyc-Gna",
        "colab": {
          "base_uri": "https://localhost:8080/"
        },
        "outputId": "ab51ceb5-1db5-40b7-ae1c-71a36f19a864"
      },
      "outputs": [
        {
          "output_type": "stream",
          "name": "stdout",
          "text": [
            "Positive predictions: 985\n",
            "Neutral predictions: 522\n",
            "Negative predictions: 1060\n",
            "Real positive: 1037\n",
            "Real neutral: 602\n",
            "Real negative: 928\n"
          ]
        }
      ],
      "source": [
        "pos_count, neu_count, neg_count = 0, 0, 0\n",
        "real_pos, real_neu, real_neg = 0, 0, 0\n",
        "for i, prediction in enumerate(predictions):\n",
        "    if np.argmax(prediction)==2:\n",
        "        pos_count += 1\n",
        "    elif np.argmax(prediction)==1:\n",
        "        neu_count += 1\n",
        "    else:\n",
        "        neg_count += 1\n",
        "    \n",
        "    if np.argmax(y_test[i])==2:\n",
        "        real_pos += 1\n",
        "    elif np.argmax(y_test[i])==1:    \n",
        "        real_neu += 1\n",
        "    else:\n",
        "        real_neg +=1\n",
        "\n",
        "print('Positive predictions:', pos_count)\n",
        "print('Neutral predictions:', neu_count)\n",
        "print('Negative predictions:', neg_count)\n",
        "print('Real positive:', real_pos)\n",
        "print('Real neutral:', real_neu)\n",
        "print('Real negative:', real_neg)"
      ]
    },
    {
      "cell_type": "code",
      "execution_count": 23,
      "metadata": {
        "id": "GqEJAaXpxy1r",
        "colab": {
          "base_uri": "https://localhost:8080/"
        },
        "outputId": "08b81613-0eb3-4ee7-ee53-bec753ef68b0"
      },
      "outputs": [
        {
          "output_type": "stream",
          "name": "stdout",
          "text": [
            "2567\n",
            "40.397350993377486\n",
            "23.451499805220102\n",
            "36.15114920140242\n",
            "100.0\n"
          ]
        }
      ],
      "source": [
        "total_result = int(real_pos) + int(real_neu) + int(real_neg)\n",
        "print(total_result)\n",
        "\n",
        "per_real_pos = (real_pos/total_result)*100\n",
        "per_real_neu = (real_neu/total_result)*100\n",
        "per_real_neg = (real_neg/total_result)*100\n",
        "print(per_real_pos)\n",
        "print(per_real_neu)\n",
        "print(per_real_neg)\n",
        "total_percentage = per_real_neg + per_real_pos + per_real_neu\n",
        "print(total_percentage)"
      ]
    },
    {
      "cell_type": "code",
      "execution_count": 24,
      "metadata": {
        "id": "-ccyK1w7on_o",
        "colab": {
          "base_uri": "https://localhost:8080/",
          "height": 264
        },
        "outputId": "9fa11a81-408a-4f38-a87e-5b0ade127217"
      },
      "outputs": [
        {
          "output_type": "display_data",
          "data": {
            "text/plain": [
              "<Figure size 432x288 with 1 Axes>"
            ],
            "image/png": "[encoded data removed]"
          },
          "metadata": {}
        }
      ],
      "source": [
        "keyword = \"Tokyo 2020 summer olympics\"\n",
        "labels = ['Positive ['+str(per_real_pos)+'%]' , 'Neutral ['+str(per_real_neu)+'%]','Negative ['+str(per_real_neg)+'%]']\n",
        "sizes = [real_pos, real_neu, real_neg]\n",
        "colors = ['yellowgreen', 'blue','red']\n",
        "patches, texts = plt.pie(sizes,colors=colors, startangle=90)\n",
        "plt.style.use('default')\n",
        "plt.legend(labels)\n",
        "plt.title(\"Sentiment Analysis Result for keyword=  \"+keyword+\"\" )\n",
        "plt.axis('equal')\n",
        "plt.show()"
      ]
    },
    {
      "cell_type": "code",
      "execution_count": 25,
      "metadata": {
        "id": "j1yQDjEeqiJW"
      },
      "outputs": [],
      "source": [
        "y_pred=np.argmax(predictions, axis=1)\n",
        "y_true=np.argmax(y_test, axis=1)"
      ]
    },
    {
      "cell_type": "code",
      "execution_count": 26,
      "metadata": {
        "id": "lsTtrIOyXTn2",
        "colab": {
          "base_uri": "https://localhost:8080/",
          "height": 585
        },
        "outputId": "05cad05a-0860-4c37-e0f4-99f312496781"
      },
      "outputs": [
        {
          "output_type": "stream",
          "name": "stdout",
          "text": [
            "[[888  14  26]\n",
            " [ 66 477  59]\n",
            " [106  31 900]]\n"
          ]
        },
        {
          "output_type": "display_data",
          "data": {
            "text/plain": [
              "<Figure size 640x480 with 2 Axes>"
            ],
            "image/png": "[encoded data removed]"
          },
          "metadata": {}
        }
      ],
      "source": [
        "cf_matrix = confusion_matrix(y_true, y_pred)\n",
        "\n",
        "print(cf_matrix)\n",
        "\n",
        "mt = sns.heatmap(cf_matrix, annot=True, cmap='Blues')\n",
        "\n",
        "mt.set_title('Seaborn Confusion Matrix with labels\\n\\n');\n",
        "mt.set_xlabel('\\nPredicted Values')\n",
        "mt.set_ylabel('Actual Values ');\n",
        "\n",
        "## Ticket labels - List must be in alphabetical order\n",
        "mt.xaxis.set_ticklabels(['False','True'])\n",
        "mt.yaxis.set_ticklabels(['False','True'])\n",
        "\n",
        "## Display the visualization of the Confusion Matrix.\n",
        "plt.show()"
      ]
    }
  ],
  "metadata": {
    "colab": {
      "collapsed_sections": [],
      "name": "Olympic Sentiment Analysis.ipynb",
      "provenance": [],
      "include_colab_link": true
    },
    "kernelspec": {
      "display_name": "Python 3",
      "language": "python",
      "name": "python3"
    },
    "language_info": {
      "codemirror_mode": {
        "name": "ipython",
        "version": 3
      },
      "file_extension": ".py",
      "mimetype": "text/x-python",
      "name": "python",
      "nbconvert_exporter": "python",
      "pygments_lexer": "ipython3",
      "version": "3.7.4"
    },
    "accelerator": "GPU"
  },
  "nbformat": 4,
  "nbformat_minor": 0
}